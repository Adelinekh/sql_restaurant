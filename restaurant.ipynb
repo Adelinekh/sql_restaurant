{
 "cells": [
  {
   "cell_type": "code",
   "execution_count": 742,
   "metadata": {},
   "outputs": [],
   "source": [
    "import sqlalchemy as db\n",
    "from faker import Faker\n",
    "from faker_food import FoodProvider\n",
    "import random as random\n"
   ]
  },
  {
   "cell_type": "code",
   "execution_count": 743,
   "metadata": {},
   "outputs": [],
   "source": [
    "faker= Faker()\n",
    "faker.add_provider(FoodProvider)"
   ]
  },
  {
   "cell_type": "code",
   "execution_count": 744,
   "metadata": {},
   "outputs": [
    {
     "data": {
      "text/plain": [
       "'Garrett Lewis'"
      ]
     },
     "execution_count": 744,
     "metadata": {},
     "output_type": "execute_result"
    }
   ],
   "source": [
    "faker.name()"
   ]
  },
  {
   "cell_type": "code",
   "execution_count": 745,
   "metadata": {},
   "outputs": [
    {
     "name": "stdout",
     "output_type": "stream",
     "text": [
      "['Botswana', 'Isle of Man', 'Tonga', 'Cocos (Keeling) Islands', 'Angola', 'French Polynesia', 'Somalia', 'Uruguay', 'Georgia', 'United States of America', 'Estonia', 'Turkmenistan', 'Cyprus', 'Niger', 'American Samoa', 'Mali', 'Macao', 'British Virgin Islands', 'Switzerland', 'Portugal', 'Switzerland', 'Moldova', 'India', 'Cuba', 'Macao', 'Bhutan', 'India', 'Jersey', 'Bahrain', 'Guadeloupe', 'Uganda', 'Saint Helena', 'Lesotho', 'United States Virgin Islands', 'Bangladesh', 'Bouvet Island (Bouvetoya)', 'Angola', 'Bosnia and Herzegovina', 'Sudan', 'Congo', 'Ethiopia', 'Russian Federation', 'British Indian Ocean Territory (Chagos Archipelago)', 'Mayotte', 'Argentina', 'Bolivia', 'Guam', 'Cook Islands', 'Ecuador', 'Palestinian Territory', 'Poland', 'Guadeloupe', 'Argentina', 'Jordan', 'Slovakia (Slovak Republic)', 'Lithuania', 'Jersey', 'Germany', 'Singapore', 'Mauritania', 'United States of America', 'Kiribati', 'Armenia', 'Macedonia', 'Algeria', 'Egypt', 'Malawi', 'Slovenia', 'Panama', 'Cayman Islands', 'Barbados', 'Guernsey', 'Saint Helena', 'Trinidad and Tobago', 'Italy', 'Azerbaijan', 'Kiribati', 'Cape Verde', 'Greenland', 'Angola', 'Gibraltar', 'Saudi Arabia', 'Grenada', 'Burundi', 'Nicaragua', 'Reunion', 'Liechtenstein', 'Zimbabwe', 'Germany', 'Tunisia', 'Azerbaijan', 'Jersey', 'Greenland', 'Ghana', \"Lao People's Democratic Republic\", 'Kyrgyz Republic', 'Guadeloupe', 'Antigua and Barbuda', 'Netherlands', 'Libyan Arab Jamahiriya']\n"
     ]
    }
   ],
   "source": [
    "list_pays=[]\n",
    "for i in range(100):\n",
    "   list_pays.append(faker.country())\n",
    "print(list_pays)"
   ]
  },
  {
   "cell_type": "code",
   "execution_count": 746,
   "metadata": {},
   "outputs": [
    {
     "data": {
      "text/plain": [
       "'2835 Guerrero Union Suite 470\\nJonesborough, ID 74673'"
      ]
     },
     "execution_count": 746,
     "metadata": {},
     "output_type": "execute_result"
    }
   ],
   "source": [
    "faker.address()"
   ]
  },
  {
   "cell_type": "code",
   "execution_count": 747,
   "metadata": {},
   "outputs": [
    {
     "data": {
      "text/plain": [
       "'Research TV buy same key admit. Serious live on week.\\nProtect discover life understand drop social. Enough project professor significant.'"
      ]
     },
     "execution_count": 747,
     "metadata": {},
     "output_type": "execute_result"
    }
   ],
   "source": [
    "faker.text()"
   ]
  },
  {
   "cell_type": "code",
   "execution_count": 748,
   "metadata": {},
   "outputs": [],
   "source": [
    "#fake.dish()\n",
    "#fake.fruit()\n",
    "#fake.spice()\n",
    "#fake.vegetable()\n",
    "#fake.ingredient()"
   ]
  },
  {
   "cell_type": "code",
   "execution_count": 749,
   "metadata": {},
   "outputs": [],
   "source": [
    "# sqlite://<nohostname>/<path>\n",
    "# where <path> is relative:\n",
    "engine = db.create_engine(\"sqlite:///restaurant.db\")"
   ]
  },
  {
   "cell_type": "code",
   "execution_count": 750,
   "metadata": {},
   "outputs": [],
   "source": [
    "connection = engine.connect()\n",
    "metadata = db.MetaData()\n"
   ]
  },
  {
   "cell_type": "code",
   "execution_count": 751,
   "metadata": {},
   "outputs": [],
   "source": [
    "\n",
    "\n",
    "ingredient_table = db.Table('Ingredient', metadata,\n",
    "              db.Column('nom_ingredient', db.String(), primary_key=True),\n",
    "              db.Column('prix_achat', db.Float(), default=0.0),\n",
    "              )\n",
    "\n"
   ]
  },
  {
   "cell_type": "code",
   "execution_count": 752,
   "metadata": {},
   "outputs": [],
   "source": [
    "\n",
    "\n",
    "pays_table = db.Table('Pays', metadata,\n",
    "              db.Column('pays', db.String(), primary_key=True),\n",
    "              )\n",
    "\n"
   ]
  },
  {
   "cell_type": "code",
   "execution_count": 753,
   "metadata": {},
   "outputs": [],
   "source": [
    "\n",
    "\n",
    "restaurant_table = db.Table('Restaurant', metadata,\n",
    "              db.Column('code_postal', db.String(), primary_key=True),\n",
    "              db.Column('parking', db.Integer(),nullable=False),\n",
    "              db.Column('espace_enfant', db.Integer(),default=0),\n",
    "              db.Column('pmr', db.Integer(),default=0),\n",
    "              db.Column('borne', db.Integer(),default=0),\n",
    "              db.Column('capacite', db.Integer(),default=0),\n",
    "              db.Column('pays', db.String(), db.ForeignKey(\"Pays.pays\"),nullable=False),\n",
    "              )\n",
    "\n"
   ]
  },
  {
   "cell_type": "code",
   "execution_count": 754,
   "metadata": {},
   "outputs": [],
   "source": [
    "\n",
    "\n",
    "stock_table = db.Table('Stock', metadata,\n",
    "              db.Column('id_stock', db.Integer(),primary_key=True),\n",
    "              db.Column('nom_ingredient', db.String(),db.ForeignKey(\"Ingredient.nom_ingredient\"),nullable=False),\n",
    "              db.Column('code_postal', db.String(),db.ForeignKey(\"Restaurant.code_postal\"),nullable=False),\n",
    "              db.Column('quantite', db.Integer(),default=0),\n",
    "              )\n",
    "\n"
   ]
  },
  {
   "cell_type": "code",
   "execution_count": 755,
   "metadata": {},
   "outputs": [],
   "source": [
    "\n",
    "\n",
    "item_table = db.Table('Item', metadata,\n",
    "              db.Column('nom_item', db.String(),primary_key=True),\n",
    "              db.Column('type', db.String(),nullable=False),\n",
    "              db.Column('prix', db.Float(),default=0.00),\n",
    "              )\n",
    "\n"
   ]
  },
  {
   "cell_type": "code",
   "execution_count": 756,
   "metadata": {},
   "outputs": [],
   "source": [
    "\n",
    "carte_item_table = db.Table('CarteItem', metadata,\n",
    "              db.Column('id_carte_item', db.Integer(),primary_key=True),\n",
    "              db.Column('nom_item', db.String(),db.ForeignKey(\"Item.nom_item\"),nullable=False),\n",
    "              db.Column('pays', db.String(),db.ForeignKey(\"Pays.pays\"),nullable=False),\n",
    "              )"
   ]
  },
  {
   "cell_type": "code",
   "execution_count": 757,
   "metadata": {},
   "outputs": [],
   "source": [
    "employes_table= db.Table ('Employes', metadata,\n",
    "            db.Column('id_employes',db.Integer(),primary_key=True),\n",
    "            db.Column('nom',db.String(),nullable=False),\n",
    "            db.Column('role',db.String(),nullable=False),\n",
    "            db.Column('id_superieur',db.Integer(),db.ForeignKey(\"Employes.id_employes\")),\n",
    "            db.Column('anciennete',db.Integer(),default=0),\n",
    "            db.Column('compte_bancaire',db.Integer()),\n",
    "            db.Column('note',db.Integer()),\n",
    "            db.Column('adresse',db.String()),\n",
    "            db.Column('code_postal',db.String(),db.ForeignKey(\"Restaurant.code_postal\"),nullable=False),\n",
    "            )"
   ]
  },
  {
   "cell_type": "code",
   "execution_count": 758,
   "metadata": {},
   "outputs": [],
   "source": [
    "bulletin_paye_table = db.Table('BulletinPaye', metadata,\n",
    "              db.Column('id_employes', db.Integer(),db.ForeignKey(\"Employes.id_employes\"),primary_key=True),\n",
    "              db.Column('date', db.String(),primary_key=True,nullable=False),\n",
    "              db.Column('salaire', db.Float(),nullable=False),\n",
    "               db.Column('poste', db.String(),nullable=False),\n",
    "              )"
   ]
  },
  {
   "cell_type": "code",
   "execution_count": 759,
   "metadata": {},
   "outputs": [],
   "source": [
    "recette_table = db.Table('Recette', metadata,\n",
    "        db.Column('id_recette', db.Integer(),primary_key=True),\n",
    "        db.Column('nom_item', db.String(),db.ForeignKey(\"Item.nom_item\"),nullable=False),\n",
    "        db.Column('nom_ingredient', db.String(),db.ForeignKey(\"Ingredient.nom_ingredient\"),nullable=False),\n",
    "        db.Column('quantite_ingredient', db.Integer(),default=0)\n",
    "        )"
   ]
  },
  {
   "cell_type": "code",
   "execution_count": 760,
   "metadata": {},
   "outputs": [],
   "source": [
    "menu_table = db.Table('Menu', metadata,\n",
    "        db.Column('nom_menu', db.String(),primary_key=True),\n",
    "        db.Column('plat', db.String(),db.ForeignKey(\"Item.nom_item\"),nullable=False),\n",
    "        db.Column('dessert', db.String(),db.ForeignKey(\"Item.nom_item\"),nullable=False),\n",
    "        db.Column('boisson', db.String(),db.ForeignKey(\"Item.nom_item\"),nullable=False),\n",
    "        db.Column('prix', db.Integer(),default=0.00)\n",
    "        )"
   ]
  },
  {
   "cell_type": "code",
   "execution_count": 761,
   "metadata": {},
   "outputs": [],
   "source": [
    "carte_menu_table = db.Table('CarteMenu', metadata,\n",
    "              db.Column('id_carte_menu', db.Integer(),primary_key=True),\n",
    "              db.Column('nom_menu', db.String(),db.ForeignKey(\"Item.nom_item\"),nullable=False),\n",
    "              db.Column('pays', db.String(),db.ForeignKey(\"Pays.pays\"),nullable=False),\n",
    "              )"
   ]
  },
  {
   "cell_type": "code",
   "execution_count": 762,
   "metadata": {},
   "outputs": [],
   "source": [
    "addition_table = db.Table('Addition', metadata,\n",
    "              db.Column('id_ticket', db.Integer(),primary_key=True),\n",
    "              db.Column('heure', db.Integer(),nullable=False),\n",
    "              db.Column('code_postal', db.String(),db.ForeignKey(\"Restaurant.code_postal\"),nullable=False),\n",
    "              db.Column('id_employes', db.String(),db.ForeignKey(\"Employes.id_employes\"),nullable=False),\n",
    "              db.Column('somme', db.REAL(),default=0),\n",
    "              db.Column('moyen_paiment', db.String(),nullable=False),\n",
    "              )"
   ]
  },
  {
   "cell_type": "code",
   "execution_count": 763,
   "metadata": {},
   "outputs": [],
   "source": [
    "panier_item_table = db.Table('PanierItem', metadata,\n",
    "              db.Column('id_ticket', db.Integer(),db.ForeignKey(\"Addition.id_ticket\"),primary_key=True),\n",
    "              db.Column('nom_item', db.Integer(),db.ForeignKey(\"Item.nom_item\"),primary_key=True),\n",
    "              db.Column('quantite_item', db.Integer(),default=0),\n",
    "              )"
   ]
  },
  {
   "cell_type": "code",
   "execution_count": 764,
   "metadata": {},
   "outputs": [],
   "source": [
    "panier_menu_table = db.Table('PanierMenu', metadata,\n",
    "              db.Column('id_panier_menu', db.Integer(), primary_key=True),\n",
    "              db.Column('id_ticket', db.Integer(),db.ForeignKey(\"Addition.id_ticket\"),nullable=False),\n",
    "              db.Column('nom_menu', db.Integer(),db.ForeignKey(\"Menu.nom_menu\"),nullable=False),\n",
    "              db.Column('quantite_menu', db.Integer(),default=0),\n",
    "              )"
   ]
  },
  {
   "cell_type": "code",
   "execution_count": 765,
   "metadata": {},
   "outputs": [],
   "source": [
    "metadata.create_all(engine)"
   ]
  },
  {
   "cell_type": "code",
   "execution_count": 766,
   "metadata": {},
   "outputs": [],
   "source": [
    "list_pays=[]\n",
    "with engine.begin() as connection:\n",
    "    for _ in range(10):\n",
    "      insert_stmt = pays_table.insert().values(\n",
    "        pays= faker.country(),\n",
    "       )\n",
    "      connection.execute(insert_stmt)"
   ]
  },
  {
   "cell_type": "code",
   "execution_count": 767,
   "metadata": {},
   "outputs": [],
   "source": [
    "with engine.begin() as connection:\n",
    "  pays_pk = connection.execute(db.select([pays_table.c.pays])).fetchall()\n",
    "\n",
    "with engine.begin() as connection:\n",
    "     for i in range(50):\n",
    "       aleatoire=random.randint(0,len(pays_pk)-1)\n",
    "       insert_stmt = restaurant_table.insert().values(\n",
    "         code_postal= random.randint(10000,99999),\n",
    "         capacite= random.randint(30,100),\n",
    "         parking= random.randint(0,1),\n",
    "         espace_enfant= random.randint(0,1),\n",
    "         pmr=random.randint(0,1),\n",
    "         borne=random.randint(0,1),\n",
    "         pays=pays_pk[aleatoire][0],\n",
    "        )\n",
    "       connection.execute(insert_stmt)\n"
   ]
  },
  {
   "cell_type": "code",
   "execution_count": 768,
   "metadata": {},
   "outputs": [
    {
     "name": "stdout",
     "output_type": "stream",
     "text": [
      "[('New Zealand',), (\"Cote d'Ivoire\",), ('Latvia',), ('French Guiana',), ('Saint Barthelemy',), ('Congo',), ('Poland',), ('Saint Vincent and the Grenadines',), ('Nauru',), ('Brazil',)]\n",
      "(\"Cote d'Ivoire\",)\n",
      "(\"Cote d'Ivoire\",)\n",
      "Cote d'Ivoire\n",
      "Saint Vincent and the Grenadines\n",
      "\n"
     ]
    }
   ],
   "source": [
    "print(pays_pk)\n",
    "print(random.choice(pays_pk))\n",
    "print(pays_pk[1])\n",
    "print(pays_pk[1][0])\n",
    "print(pays_pk[aleatoire][0])\n",
    "print()"
   ]
  },
  {
   "cell_type": "code",
   "execution_count": 769,
   "metadata": {},
   "outputs": [
    {
     "name": "stdout",
     "output_type": "stream",
     "text": [
      "['director', 'manager', 'manager', 'manager', 'cuisinier', 'cuisinier', 'cuisinier', 'cuisinier', 'cuisinier', 'cuisinier', 'cuisinier', 'cuisinier', 'cuisinier', 'cuisinier', 'cuisinier', 'cuisinier', 'cuisinier', 'caissier', 'caissier', 'caissier', 'caissier', 'caissier', 'caissier', 'caissier', 'caissier', 'caissier']\n"
     ]
    }
   ],
   "source": [
    "List_role=['manager','director','caissier','cuisinier']\n",
    "List_employes=[]\n",
    "for i in range(26):\n",
    "    if i==0:\n",
    "        List_employes.append(List_role[1])\n",
    "    if i>0 and i<=3:\n",
    "        List_employes.append(List_role[0])\n",
    "    if i>4 and i<=17:\n",
    "        List_employes.append(List_role[3])\n",
    "    if i>16 :\n",
    "        List_employes.append(List_role[2])\n",
    "     \n",
    "print(List_employes)"
   ]
  },
  {
   "cell_type": "code",
   "execution_count": 770,
   "metadata": {},
   "outputs": [],
   "source": [
    "with engine.begin() as connection:\n",
    "  employes_pk = connection.execute(db.select([employes_table.c.pays])).fetchall()\n",
    "e=0\n",
    "with engine.begin() as connection:\n",
    "    for i in range(26):\n",
    "         \n",
    "      insert_stmt = employes_table.insert().values(\n",
    "        id_employes= i,\n",
    "        nom= faker.name(),\n",
    "        role=List_employes[i],\n",
    "        id_superieur = i+1,\n",
    "        anciennete= randint(0,10),\n",
    "        compte_bancaire=randint(10000000,99999999),\n",
    "        note=randint(0,10),\n",
    "        adresse=faker.address(),\n",
    "        code_postal=randint(10000,99999)\n",
    "       \n",
    "       )\n",
    "      connection.execute(insert_stmt)"
   ]
  },
  {
   "cell_type": "code",
   "execution_count": 771,
   "metadata": {},
   "outputs": [],
   "source": [
    "with engine.begin() as connection:\n",
    "    for i in range(26):\n",
    "      insert_stmt = bulletin_paye_table.insert().values(\n",
    "        id_employes= i,\n",
    "        date= faker.date(),\n",
    "        salaire=randint(1200,2500),\n",
    "        poste =List_employes[i],\n",
    "       \n",
    "       )\n",
    "      connection.execute(insert_stmt)"
   ]
  },
  {
   "cell_type": "code",
   "execution_count": 772,
   "metadata": {},
   "outputs": [],
   "source": [
    "with engine.begin() as connection:\n",
    "    for i in range(26):\n",
    "      insert_stmt = bulletin_paye_table.insert().values(\n",
    "        id_employes= i,\n",
    "        date= faker.date(),\n",
    "        salaire=randint(1200,2500),\n",
    "        poste =List_employes[i],\n",
    "       \n",
    "       )\n",
    "      connection.execute(insert_stmt)"
   ]
  }
 ],
 "metadata": {
  "kernelspec": {
   "display_name": "Python 3.10.4 ('data_analystit_env')",
   "language": "python",
   "name": "python3"
  },
  "language_info": {
   "codemirror_mode": {
    "name": "ipython",
    "version": 3
   },
   "file_extension": ".py",
   "mimetype": "text/x-python",
   "name": "python",
   "nbconvert_exporter": "python",
   "pygments_lexer": "ipython3",
   "version": "3.10.4"
  },
  "orig_nbformat": 4,
  "vscode": {
   "interpreter": {
    "hash": "81a18cb05cb0b532375089582901b4823ed698f0edae20078d7ac41d39e5ee56"
   }
  }
 },
 "nbformat": 4,
 "nbformat_minor": 2
}
