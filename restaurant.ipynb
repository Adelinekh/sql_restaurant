{
 "cells": [
  {
   "cell_type": "code",
   "execution_count": 10,
   "metadata": {},
   "outputs": [],
   "source": [
    "import sqlalchemy as db"
   ]
  },
  {
   "cell_type": "code",
   "execution_count": 11,
   "metadata": {},
   "outputs": [],
   "source": [
    "# sqlite://<nohostname>/<path>\n",
    "# where <path> is relative:\n",
    "engine = db.create_engine(\"sqlite:///restaurant.db\")"
   ]
  },
  {
   "cell_type": "code",
   "execution_count": 12,
   "metadata": {},
   "outputs": [],
   "source": [
    "connection = engine.connect()\n",
    "metadata = db.MetaData()\n"
   ]
  },
  {
   "cell_type": "code",
   "execution_count": 13,
   "metadata": {},
   "outputs": [],
   "source": [
    "\n",
    "\n",
    "ingredient_table = db.Table('Ingredient', metadata,\n",
    "              db.Column('nom_ingredient', db.String(), primary_key=True),\n",
    "              db.Column('prix_achat', db.Float(), default=0.0),\n",
    "              )\n",
    "\n"
   ]
  },
  {
   "cell_type": "code",
   "execution_count": 14,
   "metadata": {},
   "outputs": [],
   "source": [
    "\n",
    "\n",
    "pays_table = db.Table('Pays', metadata,\n",
    "              db.Column('pays', db.String(), primary_key=True),\n",
    "              )\n",
    "\n"
   ]
  },
  {
   "cell_type": "code",
   "execution_count": 15,
   "metadata": {},
   "outputs": [
    {
     "ename": "NameError",
     "evalue": "name 'Pays' is not defined",
     "output_type": "error",
     "traceback": [
      "\u001b[0;31m---------------------------------------------------------------------------\u001b[0m",
      "\u001b[0;31mNameError\u001b[0m                                 Traceback (most recent call last)",
      "Cell \u001b[0;32mIn [15], line 8\u001b[0m\n\u001b[1;32m      1\u001b[0m restaurant_table \u001b[39m=\u001b[39m db\u001b[39m.\u001b[39mTable(\u001b[39m'\u001b[39m\u001b[39mRestaurant\u001b[39m\u001b[39m'\u001b[39m, metadata,\n\u001b[1;32m      2\u001b[0m               db\u001b[39m.\u001b[39mColumn(\u001b[39m'\u001b[39m\u001b[39mcode_postal\u001b[39m\u001b[39m'\u001b[39m, db\u001b[39m.\u001b[39mString(), primary_key\u001b[39m=\u001b[39m\u001b[39mTrue\u001b[39;00m),\n\u001b[1;32m      3\u001b[0m               db\u001b[39m.\u001b[39mColumn(\u001b[39m'\u001b[39m\u001b[39mparking\u001b[39m\u001b[39m'\u001b[39m, db\u001b[39m.\u001b[39mInteger()),\n\u001b[1;32m      4\u001b[0m               db\u001b[39m.\u001b[39mColumn(\u001b[39m'\u001b[39m\u001b[39mespace_enfant\u001b[39m\u001b[39m'\u001b[39m, db\u001b[39m.\u001b[39mInteger()),\n\u001b[1;32m      5\u001b[0m               db\u001b[39m.\u001b[39mColumn(\u001b[39m'\u001b[39m\u001b[39mpmr\u001b[39m\u001b[39m'\u001b[39m, db\u001b[39m.\u001b[39mInteger()),\n\u001b[1;32m      6\u001b[0m               db\u001b[39m.\u001b[39mColumn(\u001b[39m'\u001b[39m\u001b[39mborne\u001b[39m\u001b[39m'\u001b[39m, db\u001b[39m.\u001b[39mInteger()),\n\u001b[1;32m      7\u001b[0m               db\u001b[39m.\u001b[39mColumn(\u001b[39m'\u001b[39m\u001b[39mcapacite\u001b[39m\u001b[39m'\u001b[39m, db\u001b[39m.\u001b[39mInteger()),\n\u001b[0;32m----> 8\u001b[0m               db\u001b[39m.\u001b[39mColumn(\u001b[39m'\u001b[39m\u001b[39mpays\u001b[39m\u001b[39m'\u001b[39m, db\u001b[39m.\u001b[39mString(), db\u001b[39m.\u001b[39mForeignKey(Pays\u001b[39m.\u001b[39mpays)),\n\u001b[1;32m      9\u001b[0m               )\n",
      "\u001b[0;31mNameError\u001b[0m: name 'Pays' is not defined"
     ]
    }
   ],
   "source": [
    "\n",
    "\n",
    "restaurant_table = db.Table('Restaurant', metadata,\n",
    "              db.Column('code_postal', db.String(), primary_key=True),\n",
    "              db.Column('parking', db.Integer()),\n",
    "              db.Column('espace_enfant', db.Integer()),\n",
    "              db.Column('pmr', db.Integer()),\n",
    "              db.Column('borne', db.Integer()),\n",
    "              db.Column('capacite', db.Integer()),\n",
    "              db.Column('pays', db.String(), db.ForeignKey(Pays.pays)),\n",
    "              )\n",
    "\n"
   ]
  },
  {
   "cell_type": "code",
   "execution_count": 51,
   "metadata": {},
   "outputs": [],
   "source": [
    "\n",
    "\n",
    "stock_table = db.Table('Stock', metadata,\n",
    "              db.Column('id_stock', db.Integer()),\n",
    "              db.Column('nom_ingredient', db.String()),\n",
    "              db.Column('code_postal', db.String(10)),\n",
    "              db.Column('quantite', db.Integer()),\n",
    "              )\n",
    "\n"
   ]
  },
  {
   "cell_type": "code",
   "execution_count": null,
   "metadata": {},
   "outputs": [],
   "source": [
    "\n",
    "\n",
    "stock = db.Table('stock', metadata,\n",
    "              db.Column('id_stock', db.Integer()),\n",
    "              db.Column('nom_ingredient', db.String()),\n",
    "              db.Column('code_postal', db.String(10)),\n",
    "              db.Column('quantite', db.Integer()),\n",
    "              )\n",
    "\n"
   ]
  },
  {
   "cell_type": "code",
   "execution_count": null,
   "metadata": {},
   "outputs": [],
   "source": [
    "metadata.create_all(engine)"
   ]
  }
 ],
 "metadata": {
  "kernelspec": {
   "display_name": "Python 3.10.8 ('data_analyse_env')",
   "language": "python",
   "name": "python3"
  },
  "language_info": {
   "codemirror_mode": {
    "name": "ipython",
    "version": 3
   },
   "file_extension": ".py",
   "mimetype": "text/x-python",
   "name": "python",
   "nbconvert_exporter": "python",
   "pygments_lexer": "ipython3",
   "version": "3.10.8"
  },
  "orig_nbformat": 4,
  "vscode": {
   "interpreter": {
    "hash": "efb016019911489f5a03966f4d1632bb4674bdc6f12f4d95624e206dc03ec67a"
   }
  }
 },
 "nbformat": 4,
 "nbformat_minor": 2
}
