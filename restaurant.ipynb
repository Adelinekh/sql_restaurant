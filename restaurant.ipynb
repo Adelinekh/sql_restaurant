{
 "cells": [
  {
   "cell_type": "code",
   "execution_count": 1,
   "metadata": {},
   "outputs": [],
   "source": [
    "import sqlalchemy as db\n",
    "from faker import Faker\n",
    "from faker_food import FoodProvider\n",
    "import random as random\n"
   ]
  },
  {
   "cell_type": "code",
   "execution_count": 2,
   "metadata": {},
   "outputs": [],
   "source": [
    "faker= Faker()\n",
    "faker.add_provider(FoodProvider)"
   ]
  },
  {
   "cell_type": "code",
   "execution_count": 3,
   "metadata": {},
   "outputs": [
    {
     "data": {
      "text/plain": [
       "'Ronald Johnson'"
      ]
     },
     "execution_count": 3,
     "metadata": {},
     "output_type": "execute_result"
    }
   ],
   "source": [
    "faker.name()"
   ]
  },
  {
   "cell_type": "code",
   "execution_count": 4,
   "metadata": {},
   "outputs": [
    {
     "name": "stdout",
     "output_type": "stream",
     "text": [
      "['Syrian Arab Republic', 'Samoa', 'Ecuador', 'Barbados', 'Bosnia and Herzegovina', 'Turkmenistan', 'Liberia', 'South Georgia and the South Sandwich Islands', 'Cook Islands', 'Dominican Republic', 'Anguilla', 'Serbia', 'Georgia', 'Burundi', 'France', 'Burkina Faso', 'Philippines', 'Tuvalu', 'Turkey', 'Eritrea', 'Dominican Republic', 'Greenland', 'Georgia', 'Ethiopia', 'Ireland', 'Ireland', 'Tajikistan', 'Saint Vincent and the Grenadines', 'Brazil', 'Thailand', 'Canada', 'Tuvalu', 'Cameroon', 'Thailand', 'Saint Martin', 'Vietnam', 'Paraguay', 'Palau', 'Azerbaijan', 'Samoa', 'Suriname', 'Turkmenistan', 'Vietnam', 'Tonga', 'China', 'Montenegro', 'Burkina Faso', 'Poland', 'Turkmenistan', 'Denmark', 'Hungary', 'Isle of Man', 'Fiji', 'Ireland', 'Singapore', 'Fiji', 'Sweden', 'Mauritania', 'Panama', 'Switzerland', 'Benin', 'Somalia', 'Maldives', 'Peru', 'Lithuania', 'Argentina', 'Bulgaria', 'Greenland', 'Palestinian Territory', 'Saint Martin', 'Kyrgyz Republic', 'Somalia', 'Jordan', 'Korea', 'Solomon Islands', 'Maldives', 'Kiribati', 'Slovakia (Slovak Republic)', 'Yemen', 'Norway', 'Tajikistan', 'Tanzania', 'Romania', 'Saint Pierre and Miquelon', 'Moldova', 'Germany', 'Israel', 'Bolivia', 'Korea', 'Saudi Arabia', 'Liberia', 'Bangladesh', 'Mayotte', 'Belarus', 'Nauru', 'Montenegro', 'French Guiana', 'Anguilla', 'Aruba', 'Djibouti']\n"
     ]
    }
   ],
   "source": [
    "list_pays=[]\n",
    "for i in range(100):\n",
    "   list_pays.append(faker.country())\n",
    "print(list_pays)"
   ]
  },
  {
   "cell_type": "code",
   "execution_count": 5,
   "metadata": {},
   "outputs": [
    {
     "data": {
      "text/plain": [
       "'800 Davis Key Apt. 215\\nPort Michaelburgh, AR 37047'"
      ]
     },
     "execution_count": 5,
     "metadata": {},
     "output_type": "execute_result"
    }
   ],
   "source": [
    "faker.address()"
   ]
  },
  {
   "cell_type": "code",
   "execution_count": 6,
   "metadata": {},
   "outputs": [
    {
     "data": {
      "text/plain": [
       "'Dinner meeting party media add and. Price recognize president forward man. Buy various method mission look play edge start.'"
      ]
     },
     "execution_count": 6,
     "metadata": {},
     "output_type": "execute_result"
    }
   ],
   "source": [
    "faker.text()"
   ]
  },
  {
   "cell_type": "code",
   "execution_count": 7,
   "metadata": {},
   "outputs": [],
   "source": [
    "#fake.dish()\n",
    "#fake.fruit()\n",
    "#fake.spice()\n",
    "#fake.vegetable()\n",
    "#fake.ingredient()"
   ]
  },
  {
   "cell_type": "code",
   "execution_count": 8,
   "metadata": {},
   "outputs": [],
   "source": [
    "# sqlite://<nohostname>/<path>\n",
    "# where <path> is relative:\n",
    "engine = db.create_engine(\"sqlite:///restaurant.db\")"
   ]
  },
  {
   "cell_type": "code",
   "execution_count": 9,
   "metadata": {},
   "outputs": [],
   "source": [
    "connection = engine.connect()\n",
    "metadata = db.MetaData()\n"
   ]
  },
  {
   "cell_type": "code",
   "execution_count": 10,
   "metadata": {},
   "outputs": [],
   "source": [
    "\n",
    "\n",
    "ingredient_table = db.Table('Ingredient', metadata,\n",
    "              db.Column('nom_ingredient', db.String(), primary_key=True),\n",
    "              db.Column('prix_achat', db.Float(), default=0.0),\n",
    "              )\n",
    "\n"
   ]
  },
  {
   "cell_type": "code",
   "execution_count": 11,
   "metadata": {},
   "outputs": [],
   "source": [
    "\n",
    "\n",
    "pays_table = db.Table('Pays', metadata,\n",
    "              db.Column('pays', db.String(), primary_key=True),\n",
    "              )\n",
    "\n"
   ]
  },
  {
   "cell_type": "code",
   "execution_count": 12,
   "metadata": {},
   "outputs": [],
   "source": [
    "\n",
    "\n",
    "restaurant_table = db.Table('Restaurant', metadata,\n",
    "              db.Column('code_postal', db.String(), primary_key=True),\n",
    "              db.Column('parking', db.Integer(),nullable=False),\n",
    "              db.Column('espace_enfant', db.Integer(),default=0),\n",
    "              db.Column('pmr', db.Integer(),default=0),\n",
    "              db.Column('borne', db.Integer(),default=0),\n",
    "              db.Column('capacite', db.Integer(),default=0),\n",
    "              db.Column('pays', db.String(), db.ForeignKey(\"Pays.pays\"),nullable=False),\n",
    "              )\n",
    "\n"
   ]
  },
  {
   "cell_type": "code",
   "execution_count": 13,
   "metadata": {},
   "outputs": [],
   "source": [
    "\n",
    "\n",
    "stock_table = db.Table('Stock', metadata,\n",
    "              db.Column('id_stock', db.Integer(),primary_key=True),\n",
    "              db.Column('nom_ingredient', db.String(),db.ForeignKey(\"Ingredient.nom_ingredient\"),nullable=False),\n",
    "              db.Column('code_postal', db.String(),db.ForeignKey(\"Restaurant.code_postal\"),nullable=False),\n",
    "              db.Column('quantite', db.Integer(),default=0),\n",
    "              )\n",
    "\n"
   ]
  },
  {
   "cell_type": "code",
   "execution_count": 14,
   "metadata": {},
   "outputs": [],
   "source": [
    "\n",
    "\n",
    "item_table = db.Table('Item', metadata,\n",
    "              db.Column('nom_item', db.String(),primary_key=True),\n",
    "              db.Column('type', db.String(),nullable=False),\n",
    "              db.Column('prix', db.Float(),default=0.00),\n",
    "              )\n",
    "\n"
   ]
  },
  {
   "cell_type": "code",
   "execution_count": 15,
   "metadata": {},
   "outputs": [],
   "source": [
    "\n",
    "carte_item_table = db.Table('CarteItem', metadata,\n",
    "              db.Column('id_carte_item', db.Integer(),primary_key=True),\n",
    "              db.Column('nom_item', db.String(),db.ForeignKey(\"Item.nom_item\"),nullable=False),\n",
    "              db.Column('pays', db.String(),db.ForeignKey(\"Pays.pays\"),nullable=False),\n",
    "              )"
   ]
  },
  {
   "cell_type": "code",
   "execution_count": 16,
   "metadata": {},
   "outputs": [],
   "source": [
    "employes_table= db.Table ('Employes', metadata,\n",
    "            db.Column('id_employes',db.Integer(),primary_key=True),\n",
    "            db.Column('nom',db.String(),nullable=False),\n",
    "            db.Column('role',db.String(),nullable=False),\n",
    "            db.Column('id_superieur',db.Integer(),db.ForeignKey(\"Employes.id_employes\")),\n",
    "            db.Column('anciennete',db.Integer(),default=0),\n",
    "            db.Column('compte_bancaire',db.Integer()),\n",
    "            db.Column('note',db.Integer()),\n",
    "            db.Column('adresse',db.String()),\n",
    "            db.Column('code_postal',db.String(),db.ForeignKey(\"Restaurant.code_postal\"),nullable=False),\n",
    "            )"
   ]
  },
  {
   "cell_type": "code",
   "execution_count": 17,
   "metadata": {},
   "outputs": [],
   "source": [
    "bulletin_paye_table = db.Table('BulletinPaye', metadata,\n",
    "              db.Column('id_employes', db.Integer(),db.ForeignKey(\"Employes.id_employes\"),primary_key=True),\n",
    "              db.Column('date', db.String(),primary_key=True,nullable=False),\n",
    "              db.Column('salaire', db.Float(),nullable=False),\n",
    "               db.Column('poste', db.String(),nullable=False),\n",
    "              )"
   ]
  },
  {
   "cell_type": "code",
   "execution_count": 18,
   "metadata": {},
   "outputs": [],
   "source": [
    "recette_table = db.Table('Recette', metadata,\n",
    "        db.Column('id_recette', db.Integer(),primary_key=True),\n",
    "        db.Column('nom_item', db.String(),db.ForeignKey(\"Item.nom_item\"),nullable=False),\n",
    "        db.Column('nom_ingredient', db.String(),db.ForeignKey(\"Ingredient.nom_ingredient\"),nullable=False),\n",
    "        db.Column('quantite_ingredient', db.Integer(),default=0)\n",
    "        )"
   ]
  },
  {
   "cell_type": "code",
   "execution_count": 19,
   "metadata": {},
   "outputs": [],
   "source": [
    "menu_table = db.Table('Menu', metadata,\n",
    "        db.Column('nom_menu', db.String(),primary_key=True),\n",
    "        db.Column('plat', db.String(),db.ForeignKey(\"Item.nom_item\"),nullable=False),\n",
    "        db.Column('dessert', db.String(),db.ForeignKey(\"Item.nom_item\"),nullable=False),\n",
    "        db.Column('boisson', db.String(),db.ForeignKey(\"Item.nom_item\"),nullable=False),\n",
    "        db.Column('prix', db.Integer(),default=0.00)\n",
    "        )"
   ]
  },
  {
   "cell_type": "code",
   "execution_count": 20,
   "metadata": {},
   "outputs": [],
   "source": [
    "carte_menu_table = db.Table('CarteMenu', metadata,\n",
    "              db.Column('id_carte_menu', db.Integer(),primary_key=True),\n",
    "              db.Column('nom_menu', db.String(),db.ForeignKey(\"Item.nom_item\"),nullable=False),\n",
    "              db.Column('pays', db.String(),db.ForeignKey(\"Pays.pays\"),nullable=False),\n",
    "              )"
   ]
  },
  {
   "cell_type": "code",
   "execution_count": 21,
   "metadata": {},
   "outputs": [],
   "source": [
    "addition_table = db.Table('Addition', metadata,\n",
    "              db.Column('id_ticket', db.Integer(),primary_key=True),\n",
    "              db.Column('heure', db.Integer(),nullable=False),\n",
    "              db.Column('code_postal', db.String(),db.ForeignKey(\"Restaurant.code_postal\"),nullable=False),\n",
    "              db.Column('id_employes', db.String(),db.ForeignKey(\"Employes.id_employes\"),nullable=False),\n",
    "              db.Column('somme', db.REAL(),default=0),\n",
    "              db.Column('moyen_paiment', db.String(),nullable=False),\n",
    "              )"
   ]
  },
  {
   "cell_type": "code",
   "execution_count": 22,
   "metadata": {},
   "outputs": [],
   "source": [
    "panier_item_table = db.Table('PanierItem', metadata,\n",
    "              db.Column('id_ticket', db.Integer(),db.ForeignKey(\"Addition.id_ticket\"),primary_key=True),\n",
    "              db.Column('nom_item', db.Integer(),db.ForeignKey(\"Item.nom_item\"),primary_key=True),\n",
    "              db.Column('quantite_item', db.Integer(),default=0),\n",
    "              )"
   ]
  },
  {
   "cell_type": "code",
   "execution_count": 23,
   "metadata": {},
   "outputs": [],
   "source": [
    "panier_menu_table = db.Table('PanierMenu', metadata,\n",
    "              db.Column('id_panier_menu', db.Integer(), primary_key=True),\n",
    "              db.Column('id_ticket', db.Integer(),db.ForeignKey(\"Addition.id_ticket\"),nullable=False),\n",
    "              db.Column('nom_menu', db.Integer(),db.ForeignKey(\"Menu.nom_menu\"),nullable=False),\n",
    "              db.Column('quantite_menu', db.Integer(),default=0),\n",
    "              )"
   ]
  },
  {
   "cell_type": "code",
   "execution_count": 24,
   "metadata": {},
   "outputs": [],
   "source": [
    "metadata.create_all(engine)"
   ]
  },
  {
   "cell_type": "code",
   "execution_count": 25,
   "metadata": {},
   "outputs": [],
   "source": [
    "list_pays=[]\n",
    "with engine.begin() as connection:\n",
    "    for _ in range(10):\n",
    "      insert_stmt = pays_table.insert().values(\n",
    "        pays= faker.country(),\n",
    "       )\n",
    "      connection.execute(insert_stmt)"
   ]
  },
  {
   "cell_type": "code",
   "execution_count": 26,
   "metadata": {},
   "outputs": [],
   "source": [
    "with engine.begin() as connection:\n",
    "  pays_pk = connection.execute(db.select([pays_table.c.pays])).fetchall()\n",
    "\n",
    "with engine.begin() as connection:\n",
    "     for i in range(50):\n",
    "       aleatoire=random.randint(0,len(pays_pk)-1)\n",
    "       insert_stmt = restaurant_table.insert().values(\n",
    "         code_postal= random.randint(10000,99999),\n",
    "         capacite= random.randint(30,100),\n",
    "         parking= random.randint(0,1),\n",
    "         espace_enfant= random.randint(0,1),\n",
    "         pmr=random.randint(0,1),\n",
    "         borne=random.randint(0,1),\n",
    "         pays=pays_pk[aleatoire][0],\n",
    "        )\n",
    "       connection.execute(insert_stmt)\n"
   ]
  },
  {
   "cell_type": "code",
   "execution_count": 27,
   "metadata": {},
   "outputs": [
    {
     "name": "stdout",
     "output_type": "stream",
     "text": [
      "[('Tuvalu',), ('Jersey',), ('Saint Pierre and Miquelon',), ('El Salvador',), ('Montserrat',), ('Uruguay',), ('Vanuatu',), ('Taiwan',), ('Timor-Leste',), ('Belize',)]\n",
      "('Timor-Leste',)\n",
      "('Jersey',)\n",
      "Jersey\n",
      "Vanuatu\n",
      "\n"
     ]
    }
   ],
   "source": [
    "print(pays_pk)\n",
    "print(random.choice(pays_pk))\n",
    "print(pays_pk[1])\n",
    "print(pays_pk[1][0])\n",
    "print(pays_pk[aleatoire][0])\n",
    "print()"
   ]
  },
  {
   "cell_type": "code",
   "execution_count": 28,
   "metadata": {},
   "outputs": [
    {
     "name": "stdout",
     "output_type": "stream",
     "text": [
      "['director', 'manager', 'manager', 'manager', 'cuisinier', 'cuisinier', 'cuisinier', 'cuisinier', 'cuisinier', 'cuisinier', 'cuisinier', 'cuisinier', 'cuisinier', 'cuisinier', 'cuisinier', 'cuisinier', 'cuisinier', 'caissier', 'caissier', 'caissier', 'caissier', 'caissier', 'caissier', 'caissier', 'caissier', 'caissier']\n"
     ]
    }
   ],
   "source": [
    "List_role=['manager','director','caissier','cuisinier']\n",
    "List_employes=[]\n",
    "for i in range(26):\n",
    "    if i==0:\n",
    "        List_employes.append(List_role[1])\n",
    "    if i>0 and i<=3:\n",
    "        List_employes.append(List_role[0])\n",
    "    if i>4 and i<=17:\n",
    "        List_employes.append(List_role[3])\n",
    "    if i>16 :\n",
    "        List_employes.append(List_role[2])\n",
    "     \n",
    "print(List_employes)"
   ]
  },
  {
   "cell_type": "code",
   "execution_count": 29,
   "metadata": {},
   "outputs": [
    {
     "ename": "AttributeError",
     "evalue": "pays",
     "output_type": "error",
     "traceback": [
      "\u001b[0;31m---------------------------------------------------------------------------\u001b[0m",
      "\u001b[0;31mKeyError\u001b[0m                                  Traceback (most recent call last)",
      "File \u001b[0;32m~/miniconda3/envs/data_analyse_env/lib/python3.10/site-packages/sqlalchemy/sql/base.py:1223\u001b[0m, in \u001b[0;36mColumnCollection.__getattr__\u001b[0;34m(self, key)\u001b[0m\n\u001b[1;32m   1222\u001b[0m \u001b[39mtry\u001b[39;00m:\n\u001b[0;32m-> 1223\u001b[0m     \u001b[39mreturn\u001b[39;00m \u001b[39mself\u001b[39;49m\u001b[39m.\u001b[39;49m_index[key]\n\u001b[1;32m   1224\u001b[0m \u001b[39mexcept\u001b[39;00m \u001b[39mKeyError\u001b[39;00m \u001b[39mas\u001b[39;00m err:\n",
      "\u001b[0;31mKeyError\u001b[0m: 'pays'",
      "\nThe above exception was the direct cause of the following exception:\n",
      "\u001b[0;31mAttributeError\u001b[0m                            Traceback (most recent call last)",
      "Cell \u001b[0;32mIn [29], line 2\u001b[0m\n\u001b[1;32m      1\u001b[0m \u001b[39mwith\u001b[39;00m engine\u001b[39m.\u001b[39mbegin() \u001b[39mas\u001b[39;00m connection:\n\u001b[0;32m----> 2\u001b[0m   employes_pk \u001b[39m=\u001b[39m connection\u001b[39m.\u001b[39mexecute(db\u001b[39m.\u001b[39mselect([employes_table\u001b[39m.\u001b[39;49mc\u001b[39m.\u001b[39;49mpays]))\u001b[39m.\u001b[39mfetchall()\n\u001b[1;32m      3\u001b[0m e\u001b[39m=\u001b[39m\u001b[39m0\u001b[39m\n\u001b[1;32m      4\u001b[0m \u001b[39mwith\u001b[39;00m engine\u001b[39m.\u001b[39mbegin() \u001b[39mas\u001b[39;00m connection:\n",
      "File \u001b[0;32m~/miniconda3/envs/data_analyse_env/lib/python3.10/site-packages/sqlalchemy/sql/base.py:1225\u001b[0m, in \u001b[0;36mColumnCollection.__getattr__\u001b[0;34m(self, key)\u001b[0m\n\u001b[1;32m   1223\u001b[0m     \u001b[39mreturn\u001b[39;00m \u001b[39mself\u001b[39m\u001b[39m.\u001b[39m_index[key]\n\u001b[1;32m   1224\u001b[0m \u001b[39mexcept\u001b[39;00m \u001b[39mKeyError\u001b[39;00m \u001b[39mas\u001b[39;00m err:\n\u001b[0;32m-> 1225\u001b[0m     util\u001b[39m.\u001b[39;49mraise_(\u001b[39mAttributeError\u001b[39;49;00m(key), replace_context\u001b[39m=\u001b[39;49merr)\n",
      "File \u001b[0;32m~/miniconda3/envs/data_analyse_env/lib/python3.10/site-packages/sqlalchemy/util/compat.py:208\u001b[0m, in \u001b[0;36mraise_\u001b[0;34m(***failed resolving arguments***)\u001b[0m\n\u001b[1;32m    205\u001b[0m     exception\u001b[39m.\u001b[39m__cause__ \u001b[39m=\u001b[39m replace_context\n\u001b[1;32m    207\u001b[0m \u001b[39mtry\u001b[39;00m:\n\u001b[0;32m--> 208\u001b[0m     \u001b[39mraise\u001b[39;00m exception\n\u001b[1;32m    209\u001b[0m \u001b[39mfinally\u001b[39;00m:\n\u001b[1;32m    210\u001b[0m     \u001b[39m# credit to\u001b[39;00m\n\u001b[1;32m    211\u001b[0m     \u001b[39m# https://cosmicpercolator.com/2016/01/13/exception-leaks-in-python-2-and-3/\u001b[39;00m\n\u001b[1;32m    212\u001b[0m     \u001b[39m# as the __traceback__ object creates a cycle\u001b[39;00m\n\u001b[1;32m    213\u001b[0m     \u001b[39mdel\u001b[39;00m exception, replace_context, from_, with_traceback\n",
      "\u001b[0;31mAttributeError\u001b[0m: pays"
     ]
    }
   ],
   "source": [
    "# with engine.begin() as connection:\n",
    "#   employes_pk = connection.execute(db.select([employes_table.c.pays])).fetchall()\n",
    "# e=0\n",
    "# with engine.begin() as connection:\n",
    "#     for i in range(26):\n",
    "         \n",
    "#       insert_stmt = employes_table.insert().values(\n",
    "#         id_employes= i,\n",
    "#         nom= faker.name(),\n",
    "#         role=List_employes[i],\n",
    "#         id_superieur = i+1,\n",
    "#         anciennete= randint(0,10),\n",
    "#         compte_bancaire=randint(10000000,99999999),\n",
    "#         note=randint(0,10),\n",
    "#         adresse=faker.address(),\n",
    "#         code_postal=randint(10000,99999)\n",
    "       \n",
    "#        )\n",
    "#       connection.execute(insert_stmt)"
   ]
  },
  {
   "cell_type": "code",
   "execution_count": 30,
   "metadata": {},
   "outputs": [
    {
     "ename": "NameError",
     "evalue": "name 'randint' is not defined",
     "output_type": "error",
     "traceback": [
      "\u001b[0;31m---------------------------------------------------------------------------\u001b[0m",
      "\u001b[0;31mNameError\u001b[0m                                 Traceback (most recent call last)",
      "Cell \u001b[0;32mIn [30], line 6\u001b[0m\n\u001b[1;32m      1\u001b[0m \u001b[39mwith\u001b[39;00m engine\u001b[39m.\u001b[39mbegin() \u001b[39mas\u001b[39;00m connection:\n\u001b[1;32m      2\u001b[0m     \u001b[39mfor\u001b[39;00m i \u001b[39min\u001b[39;00m \u001b[39mrange\u001b[39m(\u001b[39m26\u001b[39m):\n\u001b[1;32m      3\u001b[0m       insert_stmt \u001b[39m=\u001b[39m bulletin_paye_table\u001b[39m.\u001b[39minsert()\u001b[39m.\u001b[39mvalues(\n\u001b[1;32m      4\u001b[0m         id_employes\u001b[39m=\u001b[39m i,\n\u001b[1;32m      5\u001b[0m         date\u001b[39m=\u001b[39m faker\u001b[39m.\u001b[39mdate(),\n\u001b[0;32m----> 6\u001b[0m         salaire\u001b[39m=\u001b[39mrandint(\u001b[39m1200\u001b[39m,\u001b[39m2500\u001b[39m),\n\u001b[1;32m      7\u001b[0m         poste \u001b[39m=\u001b[39mList_employes[i],\n\u001b[1;32m      8\u001b[0m        \n\u001b[1;32m      9\u001b[0m        )\n\u001b[1;32m     10\u001b[0m       connection\u001b[39m.\u001b[39mexecute(insert_stmt)\n",
      "\u001b[0;31mNameError\u001b[0m: name 'randint' is not defined"
     ]
    }
   ],
   "source": [
    "# with engine.begin() as connection:\n",
    "#     for i in range(26):\n",
    "#       insert_stmt = bulletin_paye_table.insert().values(\n",
    "#         id_employes= i,\n",
    "#         date= faker.date(),\n",
    "#         salaire=randint(1200,2500),\n",
    "#         poste =List_employes[i],\n",
    "       \n",
    "#        )\n",
    "#       connection.execute(insert_stmt)"
   ]
  },
  {
   "cell_type": "code",
   "execution_count": 31,
   "metadata": {},
   "outputs": [
    {
     "ename": "NameError",
     "evalue": "name 'randint' is not defined",
     "output_type": "error",
     "traceback": [
      "\u001b[0;31m---------------------------------------------------------------------------\u001b[0m",
      "\u001b[0;31mNameError\u001b[0m                                 Traceback (most recent call last)",
      "Cell \u001b[0;32mIn [31], line 6\u001b[0m\n\u001b[1;32m      1\u001b[0m \u001b[39mwith\u001b[39;00m engine\u001b[39m.\u001b[39mbegin() \u001b[39mas\u001b[39;00m connection:\n\u001b[1;32m      2\u001b[0m     \u001b[39mfor\u001b[39;00m i \u001b[39min\u001b[39;00m \u001b[39mrange\u001b[39m(\u001b[39m26\u001b[39m):\n\u001b[1;32m      3\u001b[0m       insert_stmt \u001b[39m=\u001b[39m bulletin_paye_table\u001b[39m.\u001b[39minsert()\u001b[39m.\u001b[39mvalues(\n\u001b[1;32m      4\u001b[0m         id_employes\u001b[39m=\u001b[39m i,\n\u001b[1;32m      5\u001b[0m         date\u001b[39m=\u001b[39m faker\u001b[39m.\u001b[39mdate(),\n\u001b[0;32m----> 6\u001b[0m         salaire\u001b[39m=\u001b[39mrandint(\u001b[39m1200\u001b[39m,\u001b[39m2500\u001b[39m),\n\u001b[1;32m      7\u001b[0m         poste \u001b[39m=\u001b[39mList_employes[i],\n\u001b[1;32m      8\u001b[0m        \n\u001b[1;32m      9\u001b[0m        )\n\u001b[1;32m     10\u001b[0m       connection\u001b[39m.\u001b[39mexecute(insert_stmt)\n",
      "\u001b[0;31mNameError\u001b[0m: name 'randint' is not defined"
     ]
    }
   ],
   "source": [
    "# with engine.begin() as connection:\n",
    "#     for i in range(26):\n",
    "#       insert_stmt = bulletin_paye_table.insert().values(\n",
    "#         id_employes= i,\n",
    "#         date= faker.date(),\n",
    "#         salaire=randint(1200,2500),\n",
    "#         poste =List_employes[i],\n",
    "       \n",
    "#        )\n",
    "#       connection.execute(insert_stmt)"
   ]
  },
  {
   "cell_type": "code",
   "execution_count": null,
   "metadata": {},
   "outputs": [],
   "source": [
    "type_liste = [\"boisson\", \"dessert\", \"plat\"]\n",
    "with engine.begin() as connection:\n",
    "    for _ in range(30):\n",
    "      insert_stmt = item_table.insert().values(\n",
    "        nom_item = faker.unique.dish(),\n",
    "        type = random.choice(type_liste),\n",
    "        prix = round(random.uniform(2, 10),2),\n",
    "\n",
    "      )\n",
    "      connection.execute(insert_stmt)"
   ]
  },
  {
   "cell_type": "code",
   "execution_count": null,
   "metadata": {},
   "outputs": [],
   "source": [
    "with engine.begin() as connection:\n",
    "    for _ in range(40):\n",
    "      insert_stmt = ingredient_table.insert().values(\n",
    "          nom_ingredient = faker.unique.ingredient(),\n",
    "          prix_achat = round(random.uniform(0.2,8),2)\n",
    "\n",
    "      )\n",
    "      connection.execute(insert_stmt)"
   ]
  },
  {
   "cell_type": "code",
   "execution_count": null,
   "metadata": {},
   "outputs": [],
   "source": [
    "with engine.begin() as connection:\n",
    "    item_pk = connection.execute(db.select([item_table.c.nom_item])).fetchall()\n",
    "with engine.begin() as connection:\n",
    "    ingredient_pk = connection.execute(db.select([ingredient_table.c.nom_ingredient])).fetchall()\n",
    "\n",
    "\n",
    "with engine.begin() as connection:\n",
    "    for i in range(len(item_pk)):\n",
    "        ingredient_selectionne = []\n",
    "        for nb_ingredient in range(random.randrange(1,6)):\n",
    "            ingre = random.choice([ing for ing in ingredient_pk if ing not in ingredient_selectionne])[0]\n",
    "            insert_stmt = recette_table.insert().values(\n",
    "                \n",
    "                nom_item = item_pk[i][0],\n",
    "                nom_ingredient = ingre,\n",
    "                \n",
    "                quantite_ingredient = random.randrange(1,5),\n",
    "            )\n",
    "            ingredient_selectionne.append(ingre)\n",
    "            \n",
    "            connection.execute(insert_stmt)"
   ]
  },
  {
   "cell_type": "code",
   "execution_count": null,
   "metadata": {},
   "outputs": [],
   "source": [
    "with engine.begin() as connection:\n",
    "    item_plat_pk = connection.execute(db.select([item_table.c.nom_item]).where(item_table.c.type==\"plat\")).fetchall()\n",
    "with engine.begin() as connection:\n",
    "    item_dessert_pk = connection.execute(db.select([item_table.c.nom_item]).where(item_table.c.type ==\"dessert\")).fetchall()\n",
    "with engine.begin() as connection:\n",
    "    item_boisson_pk = connection.execute(db.select([item_table.c.nom_item]).where(item_table.c.type==\"boisson\")).fetchall()\n",
    "\n",
    "with engine.begin() as connection:\n",
    "    for _ in range(15):\n",
    "      insert_stmt = menu_table.insert().values(\n",
    "          nom_menu = faker.unique.company(),\n",
    "          plat = random.choice(item_plat_pk)[0],\n",
    "          dessert = random.choice(item_dessert_pk)[0],\n",
    "          boisson = random.choice(item_boisson_pk)[0],\n",
    "          prix = round(random.uniform(8,15),2)\n",
    "\n",
    "      )\n",
    "      connection.execute(insert_stmt)"
   ]
  }
 ],
 "metadata": {
  "kernelspec": {
   "display_name": "Python 3.10.8 ('data_analyse_env')",
   "language": "python",
   "name": "python3"
  },
  "language_info": {
   "codemirror_mode": {
    "name": "ipython",
    "version": 3
   },
   "file_extension": ".py",
   "mimetype": "text/x-python",
   "name": "python",
   "nbconvert_exporter": "python",
   "pygments_lexer": "ipython3",
   "version": "3.10.8"
  },
  "orig_nbformat": 4,
  "vscode": {
   "interpreter": {
    "hash": "efb016019911489f5a03966f4d1632bb4674bdc6f12f4d95624e206dc03ec67a"
   }
  }
 },
 "nbformat": 4,
 "nbformat_minor": 2
}
