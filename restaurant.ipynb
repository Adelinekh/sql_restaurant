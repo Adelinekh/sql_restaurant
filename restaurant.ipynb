{
 "cells": [
  {
   "cell_type": "code",
   "execution_count": 142,
   "metadata": {},
   "outputs": [],
   "source": [
    "import sqlalchemy as db\n"
   ]
  },
  {
   "cell_type": "code",
   "execution_count": 143,
   "metadata": {},
   "outputs": [],
   "source": [
    "# sqlite://<nohostname>/<path>\n",
    "# where <path> is relative:\n",
    "engine = db.create_engine(\"sqlite:///restaurant.db\")"
   ]
  },
  {
   "cell_type": "code",
   "execution_count": 144,
   "metadata": {},
   "outputs": [],
   "source": [
    "connection = engine.connect()\n",
    "metadata = db.MetaData()\n"
   ]
  },
  {
   "cell_type": "code",
   "execution_count": 145,
   "metadata": {},
   "outputs": [],
   "source": [
    "\n",
    "\n",
    "ingredient_table = db.Table('Ingredient', metadata,\n",
    "              db.Column('nom_ingredient', db.String(), primary_key=True),\n",
    "              db.Column('prix_achat', db.Float(), default=0.0),\n",
    "              )\n",
    "\n"
   ]
  },
  {
   "cell_type": "code",
   "execution_count": 146,
   "metadata": {},
   "outputs": [],
   "source": [
    "\n",
    "\n",
    "pays_table = db.Table('Pays', metadata,\n",
    "              db.Column('pays', db.String(), primary_key=True),\n",
    "              )\n",
    "\n"
   ]
  },
  {
   "cell_type": "code",
   "execution_count": 147,
   "metadata": {},
   "outputs": [],
   "source": [
    "\n",
    "\n",
    "restaurant_table = db.Table('Restaurant', metadata,\n",
    "              db.Column('code_postal', db.String(), primary_key=True),\n",
    "              db.Column('parking', db.Integer(),nullable=False),\n",
    "              db.Column('espace_enfant', db.Integer(),default=0),\n",
    "              db.Column('pmr', db.Integer(),default=0),\n",
    "              db.Column('borne', db.Integer(),default=0),\n",
    "              db.Column('capacite', db.Integer(),default=0),\n",
    "              db.Column('pays', db.String(), db.ForeignKey(\"Pays.pays\"),nullable=False),\n",
    "              )\n",
    "\n"
   ]
  },
  {
   "cell_type": "code",
   "execution_count": 148,
   "metadata": {},
   "outputs": [],
   "source": [
    "\n",
    "\n",
    "stock_table = db.Table('Stock', metadata,\n",
    "              db.Column('id_stock', db.Integer(),primary_key=True),\n",
    "              db.Column('nom_ingredient', db.String(),db.ForeignKey(\"Ingredient.nom_ingredient\"),nullable=False),\n",
    "              db.Column('code_postal', db.String(),db.ForeignKey(\"Restaurant.code_postal\"),nullable=False),\n",
    "              db.Column('quantite', db.Integer(),default=0),\n",
    "              )\n",
    "\n"
   ]
  },
  {
   "cell_type": "code",
   "execution_count": 149,
   "metadata": {},
   "outputs": [],
   "source": [
    "\n",
    "\n",
    "item_table = db.Table('Item', metadata,\n",
    "              db.Column('nom_item', db.String(),primary_key=True),\n",
    "              db.Column('type', db.String(),nullable=False),\n",
    "              db.Column('prix', db.Float(),default=0.00),\n",
    "              )\n",
    "\n"
   ]
  },
  {
   "cell_type": "code",
   "execution_count": 150,
   "metadata": {},
   "outputs": [],
   "source": [
    "\n",
    "carte_item_table = db.Table('CarteItem', metadata,\n",
    "              db.Column('id_carte_item', db.Integer(),primary_key=True),\n",
    "              db.Column('nom_item', db.String(),db.ForeignKey(\"Item.nom_item\"),nullable=False),\n",
    "              db.Column('pays', db.String(),db.ForeignKey(\"Pays.pays\"),nullable=False),\n",
    "              )"
   ]
  },
  {
   "cell_type": "code",
   "execution_count": 151,
   "metadata": {},
   "outputs": [],
   "source": [
    "employes_table= db.Table ('Employes', metadata,\n",
    "            db.Column('id_employes',db.Integer(),primary_key=True),\n",
    "            db.Column('nom',db.String(),nullable=False),\n",
    "            db.Column('role',db.String(),nullable=False),\n",
    "            db.Column('id_superieur',db.Integer(),db.ForeignKey(\"Employes.id_employes\")),\n",
    "            db.Column('anciennete',db.Integer(),default=0),\n",
    "            db.Column('compte_bancaire',db.Integer()),\n",
    "            db.Column('note',db.Integer()),\n",
    "            db.Column('adresse',db.String()),\n",
    "            db.Column('code_postal',db.String(),db.ForeignKey(\"Restaurant.code_postal\"),nullable=False),\n",
    "            )"
   ]
  },
  {
   "cell_type": "code",
   "execution_count": 152,
   "metadata": {},
   "outputs": [],
   "source": [
    "bulletin_paye = db.Table('BulletinPaye', metadata,\n",
    "              db.Column('id_employes', db.Integer(),db.ForeignKey(\"Employes.id_employes\"),primary_key=True),\n",
    "              db.Column('date', db.String(),primary_key=True,nullable=False),\n",
    "              db.Column('salaire', db.Float(),nullable=False),\n",
    "               db.Column('poste', db.String(),nullable=False),\n",
    "              )"
   ]
  },
  {
   "cell_type": "code",
   "execution_count": 153,
   "metadata": {},
   "outputs": [],
   "source": [
    "recette_table = db.Table('Recette', metadata,\n",
    "        db.Column('id_recette', db.Integer(),primary_key=True),\n",
    "        db.Column('nom_item', db.String(),db.ForeignKey(\"Item.nom_item\"),nullable=False),\n",
    "        db.Column('nom_ingredient', db.String(),db.ForeignKey(\"Ingredient.nom_ingredient\"),nullable=False),\n",
    "        db.Column('quantite_ingredient', db.Integer(),default=0)\n",
    "        )"
   ]
  },
  {
   "cell_type": "code",
   "execution_count": 154,
   "metadata": {},
   "outputs": [],
   "source": [
    "menu = db.Table('Menu', metadata,\n",
    "        db.Column('nom_menu', db.String(),primary_key=True),\n",
    "        db.Column('plat', db.String(),db.ForeignKey(\"Item.nom_item\"),nullable=False),\n",
    "        db.Column('dessert', db.String(),db.ForeignKey(\"Item.nom_item\"),nullable=False),\n",
    "        db.Column('boisson', db.String(),db.ForeignKey(\"Item.nom_item\"),nullable=False),\n",
    "        db.Column('prix', db.Integer(),default=0.00)\n",
    "        )"
   ]
  },
  {
   "cell_type": "code",
   "execution_count": 155,
   "metadata": {},
   "outputs": [],
   "source": [
    "carte_menu_table = db.Table('CarteMenu', metadata,\n",
    "              db.Column('id_carte_menu', db.Integer(),primary_key=True),\n",
    "              db.Column('nom_menu', db.String(),db.ForeignKey(\"Item.nom_item\"),nullable=False),\n",
    "              db.Column('pays', db.String(),db.ForeignKey(\"Pays.pays\"),nullable=False),\n",
    "              )"
   ]
  },
  {
   "cell_type": "code",
   "execution_count": 156,
   "metadata": {},
   "outputs": [],
   "source": [
    "table_addition = db.Table('Addition', metadata,\n",
    "              db.Column('id_ticket', db.Integer(),primary_key=True),\n",
    "              db.Column('heure', db.Integer(),nullable=False),\n",
    "              db.Column('code_postal', db.String(),db.ForeignKey(\"Restaurant.code_postal\"),nullable=False),\n",
    "              db.Column('id_employes', db.String(),db.ForeignKey(\"Employes.id_employes\"),nullable=False),\n",
    "              db.Column('somme', db.REAL(),default=0),\n",
    "              db.Column('moyen_paiment', db.String(),nullable=False),\n",
    "              )"
   ]
  },
  {
   "cell_type": "code",
   "execution_count": 157,
   "metadata": {},
   "outputs": [],
   "source": [
    "panier_item_table = db.Table('PanierItem', metadata,\n",
    "              db.Column('id_ticket', db.Integer(),db.ForeignKey(\"Addition.id_ticket\"),primary_key=True),\n",
    "              db.Column('nom_item', db.Integer(),db.ForeignKey(\"Item.nom_item\"),primary_key=True),\n",
    "              db.Column('quantite_item', db.Integer(),default=0),\n",
    "              )"
   ]
  },
  {
   "cell_type": "code",
   "execution_count": 158,
   "metadata": {},
   "outputs": [],
   "source": [
    "panier_menu_table = db.Table('PanierMenu', metadata,\n",
    "              db.Column('id_panier_menu', db.Integer(), primary_key=True),\n",
    "              db.Column('id_ticket', db.Integer(),db.ForeignKey(\"Addition.id_ticket\"),nullable=False),\n",
    "              db.Column('nom_menu', db.Integer(),db.ForeignKey(\"Menu.nom_menu\"),nullable=False),\n",
    "              db.Column('quantite_menu', db.Integer(),default=0),\n",
    "              )"
   ]
  },
  {
   "cell_type": "code",
   "execution_count": 159,
   "metadata": {},
   "outputs": [],
   "source": [
    "metadata.create_all(engine)"
   ]
  },
  {
   "cell_type": "code",
   "execution_count": 160,
   "metadata": {},
   "outputs": [],
   "source": [
    "type_liste = [\"boisson\", \"dessert\", \"plat\"]\n",
    "with engine.begin() as connection:\n",
    "    for _ in range(30):\n",
    "      insert_stmt = item_table.insert().values(\n",
    "        nom_item = faker.unique.dish(),\n",
    "        type = random.choice(type_liste),\n",
    "        prix = round(random.uniform(2, 10),2),\n",
    "\n",
    "      )\n",
    "      connection.execute(insert_stmt)"
   ]
  },
  {
   "cell_type": "code",
   "execution_count": 161,
   "metadata": {},
   "outputs": [],
   "source": [
    "\n",
    "with engine.begin() as connection:\n",
    "    for _ in range(40):\n",
    "      insert_stmt = ingredient_table.insert().values(\n",
    "          nom_ingredient = faker.unique.ingredient(),\n",
    "          prix_achat = round(random.uniform(0.2,8),2)\n",
    "\n",
    "      )\n",
    "      connection.execute(insert_stmt)"
   ]
  },
  {
   "cell_type": "code",
   "execution_count": 162,
   "metadata": {},
   "outputs": [],
   "source": [
    "with engine.begin() as connection:\n",
    "    item_pk = connection.execute(db.select([item_table.c.nom_item])).fetchall()\n",
    "with engine.begin() as connection:\n",
    "    ingredient_pk = connection.execute(db.select([ingredient_table.c.nom_ingredient])).fetchall()\n",
    "\n",
    "\n",
    "with engine.begin() as connection:\n",
    "    for i in range(len(item_pk)):\n",
    "        ingredient_selectionne = []\n",
    "        for nb_ingredient in range(random.randrange(1,6)):\n",
    "            ingre = random.choice([ing for ing in ingredient_pk if ing not in ingredient_selectionne])[0]\n",
    "            insert_stmt = recette_table.insert().values(\n",
    "                \n",
    "                nom_item = item_pk[i][0],\n",
    "                nom_ingredient = ingre,\n",
    "                \n",
    "                quantite_ingredient = random.randrange(1,5),\n",
    "            )\n",
    "            ingredient_selectionne.append(ingre)\n",
    "            \n",
    "            connection.execute(insert_stmt)"
   ]
  },
  {
   "cell_type": "code",
   "execution_count": 163,
   "metadata": {},
   "outputs": [],
   "source": [
    "with engine.begin() as connection:\n",
    "    item_plat_pk = connection.execute(db.select([item_table.c.nom_item]).where(item_table.c.type==\"plat\")).fetchall()\n",
    "with engine.begin() as connection:\n",
    "    item_dessert_pk = connection.execute(db.select([item_table.c.nom_item]).where(item_table.c.type ==\"dessert\")).fetchall()\n",
    "with engine.begin() as connection:\n",
    "    item_boisson_pk = connection.execute(db.select([item_table.c.nom_item]).where(item_table.c.type==\"boisson\")).fetchall()\n",
    "\n",
    "with engine.begin() as connection:\n",
    "    for _ in range(15):\n",
    "      insert_stmt = menu_table.insert().values(\n",
    "          nom_menu = faker.unique.company(),\n",
    "          plat = random.choice(item_plat_pk)[0],\n",
    "          dessert = random.choice(item_dessert_pk)[0],\n",
    "          boisson = random.choice(item_boisson_pk)[0],\n",
    "          prix = round(random.uniform(8,15),2)\n",
    "\n",
    "      )\n",
    "      connection.execute(insert_stmt)"
   ]
  },
  {
   "cell_type": "code",
   "execution_count": 164,
   "metadata": {},
   "outputs": [],
   "source": [
    "with engine.begin() as connection:\n",
    "    for _ in range(15):\n",
    "      insert_stmt = menu_table.insert().values(\n",
    "          nom_menu = faker.unique.company(),\n",
    "          plat = random.choice(item_plat_pk)[0],\n",
    "          dessert = random.choice(item_dessert_pk)[0],\n",
    "          boisson = random.choice(item_boisson_pk)[0],\n",
    "          prix = round(random.uniform(8,15),2)\n",
    "\n",
    "      )\n",
    "      connection.execute(insert_stmt)"
   ]
  }
 ],
 "metadata": {
  "kernelspec": {
   "display_name": "Python 3.10.8 ('data_analyse_env')",
   "language": "python",
   "name": "python3"
  },
  "language_info": {
   "codemirror_mode": {
    "name": "ipython",
    "version": 3
   },
   "file_extension": ".py",
   "mimetype": "text/x-python",
   "name": "python",
   "nbconvert_exporter": "python",
   "pygments_lexer": "ipython3",
   "version": "3.10.8"
  },
  "orig_nbformat": 4,
  "vscode": {
   "interpreter": {
    "hash": "efb016019911489f5a03966f4d1632bb4674bdc6f12f4d95624e206dc03ec67a"
   }
  }
 },
 "nbformat": 4,
 "nbformat_minor": 2
}
