{
 "cells": [
  {
   "cell_type": "code",
   "execution_count": 41,
   "metadata": {},
   "outputs": [],
   "source": [
    "import sqlalchemy as db\n",
    "from faker import Faker\n",
    "from faker_food import FoodProvider\n",
    "import random as random\n"
   ]
  },
  {
   "cell_type": "code",
   "execution_count": 42,
   "metadata": {},
   "outputs": [],
   "source": [
    "faker= Faker()\n",
    "faker.add_provider(FoodProvider)"
   ]
  },
  {
   "cell_type": "code",
   "execution_count": 43,
   "metadata": {},
   "outputs": [
    {
     "data": {
      "text/plain": [
       "'Victoria Lyons'"
      ]
     },
     "execution_count": 43,
     "metadata": {},
     "output_type": "execute_result"
    }
   ],
   "source": [
    "faker.name()"
   ]
  },
  {
   "cell_type": "code",
   "execution_count": 44,
   "metadata": {},
   "outputs": [
    {
     "name": "stdout",
     "output_type": "stream",
     "text": [
      "['Ethiopia', 'Micronesia', 'Dominica', 'Martinique', 'Somalia', 'Brazil', 'British Indian Ocean Territory (Chagos Archipelago)', 'Botswana', 'Nigeria', 'Guam', 'Reunion', 'Argentina', 'Nicaragua', 'Iran', 'Saint Martin', 'Cuba', 'Timor-Leste', 'Saint Vincent and the Grenadines', 'Guinea', 'Netherlands Antilles', 'Portugal', 'Croatia', 'Tunisia', 'Fiji', 'Netherlands', 'Uzbekistan', 'Mongolia', 'Ukraine', 'Mongolia', 'India', 'Guernsey', 'Guyana', 'Norfolk Island', 'Saint Kitts and Nevis', 'Zambia', 'United Arab Emirates', 'French Guiana', 'Taiwan', 'Nicaragua', 'Korea', 'Guatemala', 'Equatorial Guinea', 'Bahrain', 'Jordan', 'Saint Kitts and Nevis', 'Liechtenstein', 'Ecuador', 'Bolivia', 'Saint Lucia', 'Central African Republic', 'Central African Republic', 'Ghana', 'San Marino', 'Guam', 'Guinea-Bissau', 'Tunisia', 'Syrian Arab Republic', 'Iraq', 'Rwanda', 'Hungary', 'Belize', 'Saint Martin', 'Venezuela', 'Iraq', 'Suriname', 'Bolivia', 'Mongolia', 'Latvia', 'Iceland', 'Brazil', 'Korea', 'Sudan', 'Burundi', 'Sao Tome and Principe', 'Cook Islands', 'Korea', 'Seychelles', 'Comoros', 'Guyana', 'Kazakhstan', 'San Marino', 'Namibia', 'Saint Pierre and Miquelon', 'Solomon Islands', 'Montenegro', 'Cook Islands', 'Samoa', 'Nauru', 'Aruba', 'Cameroon', 'Tanzania', 'Burundi', \"Lao People's Democratic Republic\", 'Brazil', 'Greece', 'Belize', 'Estonia', 'British Virgin Islands', 'French Guiana', 'Turkey']\n"
     ]
    }
   ],
   "source": [
    "list_pays=[]\n",
    "for i in range(100):\n",
    "   list_pays.append(faker.country())\n",
    "print(list_pays)"
   ]
  },
  {
   "cell_type": "code",
   "execution_count": 45,
   "metadata": {},
   "outputs": [
    {
     "data": {
      "text/plain": [
       "'742 Christopher Locks Apt. 522\\nTamaraborough, HI 25139'"
      ]
     },
     "execution_count": 45,
     "metadata": {},
     "output_type": "execute_result"
    }
   ],
   "source": [
    "faker.address()"
   ]
  },
  {
   "cell_type": "code",
   "execution_count": 46,
   "metadata": {},
   "outputs": [
    {
     "data": {
      "text/plain": [
       "'Thus perform attention fear choose chance evidence attorney. Fish perform rate drug.\\nHour start need tree wrong choose organization. Two surface resource laugh unit sport manager.'"
      ]
     },
     "execution_count": 46,
     "metadata": {},
     "output_type": "execute_result"
    }
   ],
   "source": [
    "faker.text()"
   ]
  },
  {
   "cell_type": "code",
   "execution_count": 47,
   "metadata": {},
   "outputs": [],
   "source": [
    "#fake.dish()\n",
    "#fake.fruit()\n",
    "#fake.spice()\n",
    "#fake.vegetable()\n",
    "#fake.ingredient()"
   ]
  },
  {
   "cell_type": "code",
   "execution_count": 48,
   "metadata": {},
   "outputs": [],
   "source": [
    "# sqlite://<nohostname>/<path>\n",
    "# where <path> is relative:\n",
    "engine = db.create_engine(\"sqlite:///restaurant.db\")"
   ]
  },
  {
   "cell_type": "code",
   "execution_count": 49,
   "metadata": {},
   "outputs": [],
   "source": [
    "connection = engine.connect()\n",
    "metadata = db.MetaData()\n"
   ]
  },
  {
   "cell_type": "code",
   "execution_count": 50,
   "metadata": {},
   "outputs": [],
   "source": [
    "\n",
    "\n",
    "ingredient_table = db.Table('Ingredient', metadata,\n",
    "              db.Column('nom_ingredient', db.String(), primary_key=True),\n",
    "              db.Column('prix_achat', db.Float(), default=0.0),\n",
    "              )\n",
    "\n"
   ]
  },
  {
   "cell_type": "code",
   "execution_count": 51,
   "metadata": {},
   "outputs": [],
   "source": [
    "\n",
    "\n",
    "pays_table = db.Table('Pays', metadata,\n",
    "              db.Column('pays', db.String(), primary_key=True),\n",
    "              )\n",
    "\n"
   ]
  },
  {
   "cell_type": "code",
   "execution_count": 52,
   "metadata": {},
   "outputs": [],
   "source": [
    "\n",
    "\n",
    "restaurant_table = db.Table('Restaurant', metadata,\n",
    "              db.Column('code_postal', db.String(), primary_key=True),\n",
    "              db.Column('parking', db.Integer(),nullable=False),\n",
    "              db.Column('espace_enfant', db.Integer(),default=0),\n",
    "              db.Column('pmr', db.Integer(),default=0),\n",
    "              db.Column('borne', db.Integer(),default=0),\n",
    "              db.Column('capacite', db.Integer(),default=0),\n",
    "              db.Column('pays', db.String(), db.ForeignKey(\"Pays.pays\"),nullable=False),\n",
    "              )\n",
    "\n"
   ]
  },
  {
   "cell_type": "code",
   "execution_count": 53,
   "metadata": {},
   "outputs": [],
   "source": [
    "\n",
    "\n",
    "stock_table = db.Table('Stock', metadata,\n",
    "              db.Column('id_stock', db.Integer(),primary_key=True),\n",
    "              db.Column('nom_ingredient', db.String(),db.ForeignKey(\"Ingredient.nom_ingredient\"),nullable=False),\n",
    "              db.Column('code_postal', db.String(),db.ForeignKey(\"Restaurant.code_postal\"),nullable=False),\n",
    "              db.Column('quantite', db.Integer(),default=0),\n",
    "              )\n",
    "\n"
   ]
  },
  {
   "cell_type": "code",
   "execution_count": 54,
   "metadata": {},
   "outputs": [],
   "source": [
    "\n",
    "\n",
    "item_table = db.Table('Item', metadata,\n",
    "              db.Column('nom_item', db.String(),primary_key=True),\n",
    "              db.Column('type', db.String(),nullable=False),\n",
    "              db.Column('prix', db.Float(),default=0.00),\n",
    "              )\n",
    "\n"
   ]
  },
  {
   "cell_type": "code",
   "execution_count": 55,
   "metadata": {},
   "outputs": [],
   "source": [
    "\n",
    "carte_item_table = db.Table('CarteItem', metadata,\n",
    "              db.Column('id_carte_item', db.Integer(),primary_key=True),\n",
    "              db.Column('nom_item', db.String(),db.ForeignKey(\"Item.nom_item\"),nullable=False),\n",
    "              db.Column('pays', db.String(),db.ForeignKey(\"Pays.pays\"),nullable=False),\n",
    "              )"
   ]
  },
  {
   "cell_type": "code",
   "execution_count": 56,
   "metadata": {},
   "outputs": [],
   "source": [
    "employes_table= db.Table ('Employes', metadata,\n",
    "            db.Column('id_employes',db.Integer(),primary_key=True),\n",
    "            db.Column('nom',db.String(),nullable=False),\n",
    "            db.Column('role',db.String(),nullable=False),\n",
    "            db.Column('id_superieur',db.Integer(),db.ForeignKey(\"Employes.id_employes\")),\n",
    "            db.Column('anciennete',db.Integer(),default=0),\n",
    "            db.Column('compte_bancaire',db.Integer()),\n",
    "            db.Column('note',db.Integer()),\n",
    "            db.Column('adresse',db.String()),\n",
    "            db.Column('code_postal',db.String(),db.ForeignKey(\"Restaurant.code_postal\"),nullable=False),\n",
    "            )"
   ]
  },
  {
   "cell_type": "code",
   "execution_count": 57,
   "metadata": {},
   "outputs": [],
   "source": [
    "bulletin_paye_table = db.Table('BulletinPaye', metadata,\n",
    "              db.Column('id_employes', db.Integer(),db.ForeignKey(\"Employes.id_employes\"),primary_key=True),\n",
    "              db.Column('date', db.String(),primary_key=True,nullable=False),\n",
    "              db.Column('salaire', db.Float(),nullable=False),\n",
    "               db.Column('poste', db.String(),nullable=False),\n",
    "              )"
   ]
  },
  {
   "cell_type": "code",
   "execution_count": 58,
   "metadata": {},
   "outputs": [],
   "source": [
    "recette_table = db.Table('Recette', metadata,\n",
    "        db.Column('id_recette', db.Integer(),primary_key=True),\n",
    "        db.Column('nom_item', db.String(),db.ForeignKey(\"Item.nom_item\"),nullable=False),\n",
    "        db.Column('nom_ingredient', db.String(),db.ForeignKey(\"Ingredient.nom_ingredient\"),nullable=False),\n",
    "        db.Column('quantite_ingredient', db.Integer(),default=0)\n",
    "        )"
   ]
  },
  {
   "cell_type": "code",
   "execution_count": 59,
   "metadata": {},
   "outputs": [],
   "source": [
    "menu_table = db.Table('Menu', metadata,\n",
    "        db.Column('nom_menu', db.String(),primary_key=True),\n",
    "        db.Column('plat', db.String(),db.ForeignKey(\"Item.nom_item\"),nullable=False),\n",
    "        db.Column('dessert', db.String(),db.ForeignKey(\"Item.nom_item\"),nullable=False),\n",
    "        db.Column('boisson', db.String(),db.ForeignKey(\"Item.nom_item\"),nullable=False),\n",
    "        db.Column('prix', db.Integer(),default=0.00)\n",
    "        )"
   ]
  },
  {
   "cell_type": "code",
   "execution_count": 60,
   "metadata": {},
   "outputs": [],
   "source": [
    "carte_menu_table = db.Table('CarteMenu', metadata,\n",
    "              db.Column('id_carte_menu', db.Integer(),primary_key=True),\n",
    "              db.Column('nom_menu', db.String(),db.ForeignKey(\"Item.nom_item\"),nullable=False),\n",
    "              db.Column('pays', db.String(),db.ForeignKey(\"Pays.pays\"),nullable=False),\n",
    "              )"
   ]
  },
  {
   "cell_type": "code",
   "execution_count": 61,
   "metadata": {},
   "outputs": [],
   "source": [
    "addition_table = db.Table('Addition', metadata,\n",
    "              db.Column('id_ticket', db.Integer(),primary_key=True),\n",
    "              db.Column('heure', db.Integer(),nullable=False),\n",
    "              db.Column('code_postal', db.String(),db.ForeignKey(\"Restaurant.code_postal\"),nullable=False),\n",
    "              db.Column('id_employes', db.String(),db.ForeignKey(\"Employes.id_employes\"),nullable=False),\n",
    "              db.Column('somme', db.REAL(),default=0),\n",
    "              db.Column('moyen_paiment', db.String(),nullable=False),\n",
    "              )"
   ]
  },
  {
   "cell_type": "code",
   "execution_count": 62,
   "metadata": {},
   "outputs": [],
   "source": [
    "panier_item_table = db.Table('PanierItem', metadata,\n",
    "              db.Column('id_ticket', db.Integer(),db.ForeignKey(\"Addition.id_ticket\"),primary_key=True),\n",
    "              db.Column('nom_item', db.Integer(),db.ForeignKey(\"Item.nom_item\"),primary_key=True),\n",
    "              db.Column('quantite_item', db.Integer(),default=0),\n",
    "              )"
   ]
  },
  {
   "cell_type": "code",
   "execution_count": 63,
   "metadata": {},
   "outputs": [],
   "source": [
    "panier_menu_table = db.Table('PanierMenu', metadata,\n",
    "              db.Column('id_panier_menu', db.Integer(), primary_key=True),\n",
    "              db.Column('id_ticket', db.Integer(),db.ForeignKey(\"Addition.id_ticket\"),nullable=False),\n",
    "              db.Column('nom_menu', db.Integer(),db.ForeignKey(\"Menu.nom_menu\"),nullable=False),\n",
    "              db.Column('quantite_menu', db.Integer(),default=0),\n",
    "              )"
   ]
  },
  {
   "cell_type": "code",
   "execution_count": 64,
   "metadata": {},
   "outputs": [],
   "source": [
    "metadata.create_all(engine)"
   ]
  },
  {
   "cell_type": "code",
   "execution_count": 65,
   "metadata": {},
   "outputs": [],
   "source": [
    "list_pays=[]\n",
    "with engine.begin() as connection:\n",
    "    for _ in range(10):\n",
    "      insert_stmt = pays_table.insert().values(\n",
    "        pays= faker.country(),\n",
    "       )\n",
    "      connection.execute(insert_stmt)"
   ]
  },
  {
   "cell_type": "code",
   "execution_count": 66,
   "metadata": {},
   "outputs": [],
   "source": [
    "with engine.begin() as connection:\n",
    "  pays_pk = connection.execute(db.select([pays_table.c.pays])).fetchall()\n",
    "\n",
    "with engine.begin() as connection:\n",
    "     for i in range(50):\n",
    "       aleatoire=random.randint(0,len(pays_pk)-1)\n",
    "       insert_stmt = restaurant_table.insert().values(\n",
    "         code_postal= random.randint(10000,99999),\n",
    "         capacite= random.randint(30,100),\n",
    "         parking= random.randint(0,1),\n",
    "         espace_enfant= random.randint(0,1),\n",
    "         pmr=random.randint(0,1),\n",
    "         borne=random.randint(0,1),\n",
    "         pays=pays_pk[aleatoire][0],\n",
    "        )\n",
    "       connection.execute(insert_stmt)\n"
   ]
  },
  {
   "cell_type": "code",
   "execution_count": 67,
   "metadata": {},
   "outputs": [
    {
     "name": "stdout",
     "output_type": "stream",
     "text": [
      "[('Western Sahara',), ('Niue',), ('South Africa',), (\"Lao People's Democratic Republic\",), ('Libyan Arab Jamahiriya',), ('Saint Helena',), ('Mozambique',), ('Albania',), ('Iceland',), ('Burkina Faso',)]\n",
      "('Western Sahara',)\n",
      "('Niue',)\n",
      "Niue\n",
      "Western Sahara\n",
      "\n"
     ]
    }
   ],
   "source": [
    "print(pays_pk)\n",
    "print(random.choice(pays_pk))\n",
    "print(pays_pk[1])\n",
    "print(pays_pk[1][0])\n",
    "print(pays_pk[aleatoire][0])\n",
    "print()"
   ]
  },
  {
   "cell_type": "code",
   "execution_count": 68,
   "metadata": {},
   "outputs": [
    {
     "name": "stdout",
     "output_type": "stream",
     "text": [
      "['director', 'manager', 'manager', 'manager', 'cuisinier', 'cuisinier', 'cuisinier', 'cuisinier', 'cuisinier', 'cuisinier', 'cuisinier', 'cuisinier', 'cuisinier', 'cuisinier', 'cuisinier', 'cuisinier', 'cuisinier', 'caissier', 'caissier', 'caissier', 'caissier', 'caissier', 'caissier', 'caissier', 'caissier', 'caissier']\n"
     ]
    }
   ],
   "source": [
    "List_role=['manager','director','caissier','cuisinier']\n",
    "List_employes=[]\n",
    "for i in range(26):\n",
    "    if i==0:\n",
    "        List_employes.append(List_role[1])\n",
    "    if i>0 and i<=3:\n",
    "        List_employes.append(List_role[0])\n",
    "    if i>4 and i<=17:\n",
    "        List_employes.append(List_role[3])\n",
    "    if i>16 :\n",
    "        List_employes.append(List_role[2])\n",
    "     \n",
    "print(List_employes)"
   ]
  },
  {
   "cell_type": "code",
   "execution_count": 69,
   "metadata": {},
   "outputs": [],
   "source": [
    "# with engine.begin() as connection:\n",
    "#   employes_pk = connection.execute(db.select([employes_table.c.pays])).fetchall()\n",
    "# e=0\n",
    "# with engine.begin() as connection:\n",
    "#     for i in range(26):\n",
    "         \n",
    "#       insert_stmt = employes_table.insert().values(\n",
    "#         id_employes= i,\n",
    "#         nom= faker.name(),\n",
    "#         role=List_employes[i],\n",
    "#         id_superieur = i+1,\n",
    "#         anciennete= randint(0,10),\n",
    "#         compte_bancaire=randint(10000000,99999999),\n",
    "#         note=randint(0,10),\n",
    "#         adresse=faker.address(),\n",
    "#         code_postal=randint(10000,99999)\n",
    "       \n",
    "#        )\n",
    "#       connection.execute(insert_stmt)"
   ]
  },
  {
   "cell_type": "code",
   "execution_count": 70,
   "metadata": {},
   "outputs": [],
   "source": [
    "# with engine.begin() as connection:\n",
    "#     for i in range(26):\n",
    "#       insert_stmt = bulletin_paye_table.insert().values(\n",
    "#         id_employes= i,\n",
    "#         date= faker.date(),\n",
    "#         salaire=randint(1200,2500),\n",
    "#         poste =List_employes[i],\n",
    "       \n",
    "#        )\n",
    "#       connection.execute(insert_stmt)"
   ]
  },
  {
   "cell_type": "code",
   "execution_count": 71,
   "metadata": {},
   "outputs": [],
   "source": [
    "# with engine.begin() as connection:\n",
    "#     for i in range(26):\n",
    "#       insert_stmt = bulletin_paye_table.insert().values(\n",
    "#         id_employes= i,\n",
    "#         date= faker.date(),\n",
    "#         salaire=randint(1200,2500),\n",
    "#         poste =List_employes[i],\n",
    "       \n",
    "#        )\n",
    "#       connection.execute(insert_stmt)"
   ]
  },
  {
   "cell_type": "code",
   "execution_count": 72,
   "metadata": {},
   "outputs": [],
   "source": [
    "type_liste = [\"boisson\", \"dessert\", \"plat\"]\n",
    "with engine.begin() as connection:\n",
    "    for _ in range(30):\n",
    "      insert_stmt = item_table.insert().values(\n",
    "        nom_item = faker.unique.dish(),\n",
    "        type = random.choice(type_liste),\n",
    "        prix = round(random.uniform(2, 10),2),\n",
    "\n",
    "      )\n",
    "      connection.execute(insert_stmt)"
   ]
  },
  {
   "cell_type": "code",
   "execution_count": 73,
   "metadata": {},
   "outputs": [],
   "source": [
    "with engine.begin() as connection:\n",
    "    for _ in range(40):\n",
    "      insert_stmt = ingredient_table.insert().values(\n",
    "          nom_ingredient = faker.unique.ingredient(),\n",
    "          prix_achat = round(random.uniform(0.2,8),2)\n",
    "\n",
    "      )\n",
    "      connection.execute(insert_stmt)"
   ]
  },
  {
   "cell_type": "code",
   "execution_count": 74,
   "metadata": {},
   "outputs": [],
   "source": [
    "with engine.begin() as connection:\n",
    "    item_pk = connection.execute(db.select([item_table.c.nom_item])).fetchall()\n",
    "\n",
    "with engine.begin() as connection:\n",
    "    ingredient_pk = connection.execute(db.select([ingredient_table.c.nom_ingredient])).fetchall()\n",
    "\n",
    "\n",
    "with engine.begin() as connection:\n",
    "    for i in range(len(item_pk)):\n",
    "        ingredient_selectionne = []\n",
    "        for nb_ingredient in range(random.randrange(1,6)):\n",
    "            ingre = random.choice([ing for ing in ingredient_pk if ing not in ingredient_selectionne])[0]\n",
    "            insert_stmt = recette_table.insert().values(\n",
    "                \n",
    "                nom_item = item_pk[i][0],\n",
    "                nom_ingredient = ingre,\n",
    "                \n",
    "                quantite_ingredient = random.randrange(1,5),\n",
    "            )\n",
    "            ingredient_selectionne.append(ingre)\n",
    "            \n",
    "            connection.execute(insert_stmt)"
   ]
  },
  {
   "cell_type": "code",
   "execution_count": 75,
   "metadata": {},
   "outputs": [],
   "source": [
    "with engine.begin() as connection:\n",
    "    item_plat_pk = connection.execute(db.select([item_table.c.nom_item]).where(item_table.c.type==\"plat\")).fetchall()\n",
    "with engine.begin() as connection:\n",
    "    item_dessert_pk = connection.execute(db.select([item_table.c.nom_item]).where(item_table.c.type ==\"dessert\")).fetchall()\n",
    "with engine.begin() as connection:\n",
    "    item_boisson_pk = connection.execute(db.select([item_table.c.nom_item]).where(item_table.c.type==\"boisson\")).fetchall()\n",
    "\n",
    "with engine.begin() as connection:\n",
    "    for _ in range(15):\n",
    "      insert_stmt = menu_table.insert().values(\n",
    "          nom_menu = faker.unique.company(),\n",
    "          plat = random.choice(item_plat_pk)[0],\n",
    "          dessert = random.choice(item_dessert_pk)[0],\n",
    "          boisson = random.choice(item_boisson_pk)[0],\n",
    "          prix = round(random.uniform(8,15),2)\n",
    "\n",
    "      )\n",
    "      connection.execute(insert_stmt)"
   ]
  },
  {
   "cell_type": "code",
   "execution_count": 76,
   "metadata": {},
   "outputs": [],
   "source": [
    "\n",
    "\n",
    "\n",
    "with engine.begin() as connection:\n",
    "    for i in range(len(pays_pk)):\n",
    "        item_selectionne = []\n",
    "        for nb_selectionne in range(random.randrange(10,15)):\n",
    "            itemm = random.choice([it for it in item_pk if it not in item_selectionne])[0]\n",
    "            insert_stmt = carte_item_table.insert().values(\n",
    "                \n",
    "                pays= pays_pk[i][0],\n",
    "                nom_item = itemm,\n",
    "               \n",
    "            )\n",
    "            item_selectionne.append(itemm)\n",
    "            \n",
    "            connection.execute(insert_stmt)"
   ]
  },
  {
   "cell_type": "code",
   "execution_count": 77,
   "metadata": {},
   "outputs": [],
   "source": [
    "with engine.begin() as connection:\n",
    "    menu_pk = connection.execute(db.select([menu_table.c.nom_menu])).fetchall()\n",
    "with engine.begin() as connection:\n",
    "    for i in range(len(pays_pk)):\n",
    "        menu_selectionne = []\n",
    "        for nb_selectionne in range(random.randrange(5,10)):\n",
    "            menuu = random.choice([me for me in menu_pk if me not in menu_selectionne])[0]\n",
    "            insert_stmt = carte_menu_table.insert().values(\n",
    "                \n",
    "                pays= pays_pk[i][0],\n",
    "                nom_menu = menuu,\n",
    "               \n",
    "            )\n",
    "            menu_selectionne.append(menuu)\n",
    "            \n",
    "            connection.execute(insert_stmt)"
   ]
  },
  {
   "cell_type": "code",
   "execution_count": 78,
   "metadata": {},
   "outputs": [],
   "source": [
    "with engine.begin() as connection:\n",
    "    ingredient_pk = connection.execute(db.select([ingredient_table.c.nom_ingredient])).fetchall()\n",
    "with engine.begin() as connection:\n",
    "    codepostal_pk = connection.execute(db.select([restaurant_table.c.code_postal])).fetchall()\n",
    "\n",
    "\n",
    "with engine.begin() as connection:\n",
    "    for i in range(len(codepostal_pk)):\n",
    "        ingredient_selectionne = []\n",
    "        for nb_ingredient in range(random.randrange(10,20)):\n",
    "            ingre = random.choice([ing for ing in ingredient_pk if ing not in ingredient_selectionne])[0]\n",
    "            insert_stmt = stock_table.insert().values(\n",
    "                \n",
    "                code_postal= codepostal_pk[i][0],\n",
    "                nom_ingredient = ingre,\n",
    "                \n",
    "                quantite= random.randrange(1,15),\n",
    "            )\n",
    "            ingredient_selectionne.append(ingre)\n",
    "            \n",
    "            connection.execute(insert_stmt)"
   ]
  },
  {
   "cell_type": "code",
   "execution_count": null,
   "metadata": {},
   "outputs": [],
   "source": []
  }
 ],
 "metadata": {
  "kernelspec": {
   "display_name": "Python 3.10.8 ('data_analyse_env')",
   "language": "python",
   "name": "python3"
  },
  "language_info": {
   "codemirror_mode": {
    "name": "ipython",
    "version": 3
   },
   "file_extension": ".py",
   "mimetype": "text/x-python",
   "name": "python",
   "nbconvert_exporter": "python",
   "pygments_lexer": "ipython3",
   "version": "3.10.8"
  },
  "orig_nbformat": 4,
  "vscode": {
   "interpreter": {
    "hash": "efb016019911489f5a03966f4d1632bb4674bdc6f12f4d95624e206dc03ec67a"
   }
  }
 },
 "nbformat": 4,
 "nbformat_minor": 2
}
