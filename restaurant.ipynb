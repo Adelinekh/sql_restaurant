{
 "cells": [
  {
   "cell_type": "code",
   "execution_count": 275,
   "metadata": {},
   "outputs": [],
   "source": [
    "import sqlalchemy as db\n",
    "from faker import Faker\n",
    "from faker_food import FoodProvider\n",
    "import random as random\n",
    "import pandas as pd\n"
   ]
  },
  {
   "cell_type": "code",
   "execution_count": 276,
   "metadata": {},
   "outputs": [],
   "source": [
    "faker= Faker()\n",
    "faker.add_provider(FoodProvider)"
   ]
  },
  {
   "cell_type": "code",
   "execution_count": 277,
   "metadata": {},
   "outputs": [
    {
     "data": {
      "text/plain": [
       "'Javier Harvey'"
      ]
     },
     "execution_count": 277,
     "metadata": {},
     "output_type": "execute_result"
    }
   ],
   "source": [
    "faker.name()"
   ]
  },
  {
   "cell_type": "code",
   "execution_count": 278,
   "metadata": {},
   "outputs": [
    {
     "name": "stdout",
     "output_type": "stream",
     "text": [
      "['Aruba', 'Cyprus', 'Tokelau', 'Turkey', 'Turks and Caicos Islands', 'Japan', 'Chad', 'Cyprus', 'Sweden', 'India', 'Antarctica (the territory South of 60 deg S)', 'Seychelles', 'Venezuela', 'Taiwan', 'Denmark', 'Marshall Islands', 'Guam', 'Libyan Arab Jamahiriya', 'Israel', 'British Indian Ocean Territory (Chagos Archipelago)', 'Mexico', 'Namibia', 'Morocco', 'Guinea-Bissau', 'New Caledonia', 'Poland', 'Bangladesh', 'Australia', 'Montenegro', 'Canada', 'Tokelau', 'Togo', 'Gabon', 'Antarctica (the territory South of 60 deg S)', 'Saint Vincent and the Grenadines', 'Timor-Leste', 'Ireland', 'Russian Federation', 'Sudan', 'Honduras', 'Gambia', 'Saint Martin', 'Saint Lucia', 'Tokelau', 'Dominican Republic', 'Cayman Islands', 'Heard Island and McDonald Islands', 'Liberia', 'Venezuela', 'South Georgia and the South Sandwich Islands', 'South Africa', 'Western Sahara', 'United States of America', 'United States Minor Outlying Islands', 'Guatemala', 'India', 'Uganda', 'Dominican Republic', 'Chile', 'Reunion', 'Haiti', 'Niue', 'Vanuatu', 'Bermuda', 'El Salvador', 'Turkmenistan', 'India', 'Angola', 'Togo', 'Bouvet Island (Bouvetoya)', 'Zimbabwe', 'Guatemala', 'Germany', 'Antarctica (the territory South of 60 deg S)', 'Antarctica (the territory South of 60 deg S)', 'Ukraine', 'Palau', 'Benin', 'Guatemala', 'Algeria', 'Thailand', 'Kenya', 'Botswana', 'Montserrat', 'Albania', 'South Africa', 'United States Virgin Islands', 'Australia', 'Tonga', 'Cuba', 'Macedonia', 'New Caledonia', 'Chad', 'Pitcairn Islands', 'Macao', 'Palestinian Territory', 'Tunisia', 'Costa Rica', 'Costa Rica', 'Guinea']\n"
     ]
    }
   ],
   "source": [
    "list_pays=[]\n",
    "for i in range(100):\n",
    "   list_pays.append(faker.country())\n",
    "print(list_pays)"
   ]
  },
  {
   "cell_type": "code",
   "execution_count": 279,
   "metadata": {},
   "outputs": [
    {
     "data": {
      "text/plain": [
       "'197 Carter Ramp Apt. 084\\nJonesborough, ME 79757'"
      ]
     },
     "execution_count": 279,
     "metadata": {},
     "output_type": "execute_result"
    }
   ],
   "source": [
    "faker.address()"
   ]
  },
  {
   "cell_type": "code",
   "execution_count": 280,
   "metadata": {},
   "outputs": [
    {
     "data": {
      "text/plain": [
       "'Affect but little direction follow.'"
      ]
     },
     "execution_count": 280,
     "metadata": {},
     "output_type": "execute_result"
    }
   ],
   "source": [
    "faker.text()"
   ]
  },
  {
   "cell_type": "code",
   "execution_count": 281,
   "metadata": {},
   "outputs": [],
   "source": [
    "#fake.dish()\n",
    "#fake.fruit()\n",
    "#fake.spice()\n",
    "#fake.vegetable()\n",
    "#fake.ingredient()"
   ]
  },
  {
   "cell_type": "code",
   "execution_count": 282,
   "metadata": {},
   "outputs": [],
   "source": [
    "# sqlite://<nohostname>/<path>\n",
    "# where <path> is relative:\n",
    "engine = db.create_engine(\"sqlite:///restaurant.db\")\n"
   ]
  },
  {
   "cell_type": "code",
   "execution_count": 283,
   "metadata": {},
   "outputs": [],
   "source": [
    "connection = engine.connect()\n",
    "metadata = db.MetaData()\n"
   ]
  },
  {
   "cell_type": "code",
   "execution_count": 284,
   "metadata": {},
   "outputs": [],
   "source": [
    "\n",
    "\n",
    "ingredient_table = db.Table('Ingredient', metadata,\n",
    "              db.Column('nom_ingredient', db.String(), primary_key=True),\n",
    "              db.Column('prix_achat', db.Float(), default=0.0),\n",
    "              )\n",
    "\n"
   ]
  },
  {
   "cell_type": "code",
   "execution_count": 285,
   "metadata": {},
   "outputs": [],
   "source": [
    "\n",
    "\n",
    "pays_table = db.Table('Pays', metadata,\n",
    "              db.Column('pays', db.String(), primary_key=True),\n",
    "              )\n",
    "\n"
   ]
  },
  {
   "cell_type": "code",
   "execution_count": 286,
   "metadata": {},
   "outputs": [],
   "source": [
    "\n",
    "\n",
    "restaurant_table = db.Table('Restaurant', metadata,\n",
    "              db.Column('code_postal', db.String(), primary_key=True),\n",
    "              db.Column('parking', db.Integer(),nullable=False),\n",
    "              db.Column('espace_enfant', db.Integer(),default=0),\n",
    "              db.Column('pmr', db.Integer(),default=0),\n",
    "              db.Column('borne', db.Integer(),default=0),\n",
    "              db.Column('capacite', db.Integer(),default=0),\n",
    "              db.Column('pays', db.String(), db.ForeignKey(\"Pays.pays\"),nullable=False),\n",
    "              )\n",
    "\n"
   ]
  },
  {
   "cell_type": "code",
   "execution_count": 287,
   "metadata": {},
   "outputs": [],
   "source": [
    "\n",
    "\n",
    "stock_table = db.Table('Stock', metadata,\n",
    "              db.Column('id_stock', db.Integer(),primary_key=True),\n",
    "              db.Column('nom_ingredient', db.String(),db.ForeignKey(\"Ingredient.nom_ingredient\"),nullable=False),\n",
    "              db.Column('code_postal', db.String(),db.ForeignKey(\"Restaurant.code_postal\"),nullable=False),\n",
    "              db.Column('quantite', db.Integer(),default=0),\n",
    "              )\n",
    "\n"
   ]
  },
  {
   "cell_type": "code",
   "execution_count": 288,
   "metadata": {},
   "outputs": [],
   "source": [
    "\n",
    "\n",
    "item_table = db.Table('Item', metadata,\n",
    "              db.Column('nom_item', db.String(),primary_key=True),\n",
    "              db.Column('type', db.String(),nullable=False),\n",
    "              db.Column('prix', db.Float(),default=0.00),\n",
    "              )\n",
    "\n"
   ]
  },
  {
   "cell_type": "code",
   "execution_count": 289,
   "metadata": {},
   "outputs": [],
   "source": [
    "\n",
    "carte_item_table = db.Table('CarteItem', metadata,\n",
    "              db.Column('id_carte_item', db.Integer(),primary_key=True),\n",
    "              db.Column('nom_item', db.String(),db.ForeignKey(\"Item.nom_item\"),nullable=False),\n",
    "              db.Column('pays', db.String(),db.ForeignKey(\"Pays.pays\"),nullable=False),\n",
    "              )"
   ]
  },
  {
   "cell_type": "code",
   "execution_count": 290,
   "metadata": {},
   "outputs": [],
   "source": [
    "employes_table= db.Table ('Employes', metadata,\n",
    "            db.Column('id_employes',db.Integer(),primary_key=True),\n",
    "            db.Column('nom',db.String(),nullable=False),\n",
    "            db.Column('role',db.String(),nullable=False),\n",
    "            db.Column('id_superieur',db.Integer(),db.ForeignKey(\"Employes.id_employes\")),\n",
    "            db.Column('anciennete',db.Integer(),default=0),\n",
    "            db.Column('compte_bancaire',db.Integer()),\n",
    "            db.Column('note',db.Integer()),\n",
    "            db.Column('adresse',db.String()),\n",
    "            db.Column('code_postal',db.String(),db.ForeignKey(\"Restaurant.code_postal\"),nullable=False),\n",
    "            )"
   ]
  },
  {
   "cell_type": "code",
   "execution_count": 291,
   "metadata": {},
   "outputs": [],
   "source": [
    "bulletin_paye_table = db.Table('BulletinPaye', metadata,\n",
    "              db.Column('id_employes', db.Integer(),db.ForeignKey(\"Employes.id_employes\"),primary_key=True),\n",
    "              db.Column('date', db.String(),primary_key=True,nullable=False),\n",
    "              db.Column('salaire', db.Float(),nullable=False),\n",
    "               db.Column('poste', db.String(),nullable=False),\n",
    "              )"
   ]
  },
  {
   "cell_type": "code",
   "execution_count": 292,
   "metadata": {},
   "outputs": [],
   "source": [
    "recette_table = db.Table('Recette', metadata,\n",
    "        db.Column('id_recette', db.Integer(),primary_key=True),\n",
    "        db.Column('nom_item', db.String(),db.ForeignKey(\"Item.nom_item\"),nullable=False),\n",
    "        db.Column('nom_ingredient', db.String(),db.ForeignKey(\"Ingredient.nom_ingredient\"),nullable=False),\n",
    "        db.Column('quantite_ingredient', db.Integer(),default=0)\n",
    "        )"
   ]
  },
  {
   "cell_type": "code",
   "execution_count": 293,
   "metadata": {},
   "outputs": [],
   "source": [
    "menu_table = db.Table('Menu', metadata,\n",
    "        db.Column('nom_menu', db.String(),primary_key=True),\n",
    "        db.Column('plat', db.String(),db.ForeignKey(\"Item.nom_item\"),nullable=False),\n",
    "        db.Column('dessert', db.String(),db.ForeignKey(\"Item.nom_item\"),nullable=False),\n",
    "        db.Column('boisson', db.String(),db.ForeignKey(\"Item.nom_item\"),nullable=False),\n",
    "        db.Column('prix', db.Integer(),default=0.00)\n",
    "        )"
   ]
  },
  {
   "cell_type": "code",
   "execution_count": 294,
   "metadata": {},
   "outputs": [],
   "source": [
    "carte_menu_table = db.Table('CarteMenu', metadata,\n",
    "              db.Column('id_carte_menu', db.Integer(),primary_key=True),\n",
    "              db.Column('nom_menu', db.String(),db.ForeignKey(\"Item.nom_item\"),nullable=False),\n",
    "              db.Column('pays', db.String(),db.ForeignKey(\"Pays.pays\"),nullable=False),\n",
    "              )"
   ]
  },
  {
   "cell_type": "code",
   "execution_count": 295,
   "metadata": {},
   "outputs": [],
   "source": [
    "addition_table = db.Table('Addition', metadata,\n",
    "              db.Column('id_ticket', db.Integer(),primary_key=True),\n",
    "              db.Column('heure', db.Integer(),nullable=False),\n",
    "              db.Column('code_postal', db.String(),db.ForeignKey(\"Restaurant.code_postal\"),nullable=False),\n",
    "              db.Column('id_employes', db.String(),db.ForeignKey(\"Employes.id_employes\"),nullable=False),\n",
    "              db.Column('somme', db.REAL(),default=0),\n",
    "              db.Column('moyen_paiment', db.String(),nullable=False),\n",
    "              )"
   ]
  },
  {
   "cell_type": "code",
   "execution_count": 296,
   "metadata": {},
   "outputs": [],
   "source": [
    "panier_item_table = db.Table('PanierItem', metadata,\n",
    "              db.Column('id_ticket', db.Integer(),db.ForeignKey(\"Addition.id_ticket\"),primary_key=True),\n",
    "              db.Column('nom_item', db.Integer(),db.ForeignKey(\"Item.nom_item\"),primary_key=True),\n",
    "              db.Column('quantite_item', db.Integer(),default=0),\n",
    "              )"
   ]
  },
  {
   "cell_type": "code",
   "execution_count": 297,
   "metadata": {},
   "outputs": [],
   "source": [
    "panier_menu_table = db.Table('PanierMenu', metadata,\n",
    "              db.Column('id_panier_menu', db.Integer(), primary_key=True),\n",
    "              db.Column('id_ticket', db.Integer(),db.ForeignKey(\"Addition.id_ticket\"),nullable=False),\n",
    "              db.Column('nom_menu', db.Integer(),db.ForeignKey(\"Menu.nom_menu\"),nullable=False),\n",
    "              db.Column('quantite_menu', db.Integer(),default=0),\n",
    "              )"
   ]
  },
  {
   "cell_type": "code",
   "execution_count": 298,
   "metadata": {},
   "outputs": [],
   "source": [
    "metadata.create_all(engine)"
   ]
  },
  {
   "cell_type": "code",
   "execution_count": 299,
   "metadata": {},
   "outputs": [],
   "source": [
    "list_pays=[]\n",
    "with engine.begin() as connection:\n",
    "    for _ in range(10):\n",
    "      insert_stmt = pays_table.insert().values(\n",
    "        pays= faker.country(),\n",
    "       )\n",
    "      connection.execute(insert_stmt)"
   ]
  },
  {
   "cell_type": "code",
   "execution_count": 300,
   "metadata": {},
   "outputs": [],
   "source": [
    "with engine.begin() as connection:\n",
    "  pays_pk = connection.execute(db.select([pays_table.c.pays])).fetchall()\n",
    "\n",
    "with engine.begin() as connection:\n",
    "     for i in range(50):\n",
    "       aleatoire=random.randint(0,len(pays_pk)-1)\n",
    "       insert_stmt = restaurant_table.insert().values(\n",
    "         code_postal= random.randint(10000,99999),\n",
    "         capacite= random.randint(30,100),\n",
    "         parking= random.randint(0,1),\n",
    "         espace_enfant= random.randint(0,1),\n",
    "         pmr=random.randint(0,1),\n",
    "         borne=random.randint(0,1),\n",
    "         pays=pays_pk[aleatoire][0],\n",
    "        )\n",
    "       connection.execute(insert_stmt)\n"
   ]
  },
  {
   "cell_type": "code",
   "execution_count": 301,
   "metadata": {},
   "outputs": [
    {
     "name": "stdout",
     "output_type": "stream",
     "text": [
      "[('Gambia',), ('Niger',), ('American Samoa',), ('Tajikistan',), ('Jordan',), ('Anguilla',), ('Cape Verde',), ('El Salvador',), ('Namibia',), ('Ireland',)]\n",
      "('El Salvador',)\n",
      "('Niger',)\n",
      "Niger\n",
      "Anguilla\n",
      "\n"
     ]
    }
   ],
   "source": [
    "print(pays_pk)\n",
    "print(random.choice(pays_pk))\n",
    "print(pays_pk[1])\n",
    "print(pays_pk[1][0])\n",
    "print(pays_pk[aleatoire][0])\n",
    "print()"
   ]
  },
  {
   "cell_type": "code",
   "execution_count": 302,
   "metadata": {},
   "outputs": [
    {
     "name": "stdout",
     "output_type": "stream",
     "text": [
      "['director', 'manager', 'manager', 'manager', 'cuisinier', 'cuisinier', 'cuisinier', 'cuisinier', 'cuisinier', 'cuisinier', 'cuisinier', 'cuisinier', 'cuisinier', 'cuisinier', 'cuisinier', 'cuisinier', 'cuisinier', 'caissier', 'caissier', 'caissier', 'caissier', 'caissier', 'caissier', 'caissier', 'caissier', 'caissier']\n"
     ]
    }
   ],
   "source": [
    "List_role=['manager','director','caissier','cuisinier']\n",
    "List_employes=[]\n",
    "for i in range(26):\n",
    "    if i==0:\n",
    "        List_employes.append(List_role[1])\n",
    "    if i>0 and i<=3:\n",
    "        List_employes.append(List_role[0])\n",
    "    if i>4 and i<=17:\n",
    "        List_employes.append(List_role[3])\n",
    "    if i>16 :\n",
    "        List_employes.append(List_role[2])\n",
    "     \n",
    "print(List_employes)"
   ]
  },
  {
   "cell_type": "code",
   "execution_count": 303,
   "metadata": {},
   "outputs": [],
   "source": [
    "## integration fake donnée dans la table employe\n",
    "with engine.begin() as connection:\n",
    "    #employe = metadata.tables[\"Employes\"]\n",
    "    codepostal_pk= connection.execute(db.select([restaurant_table.c.code_postal])).fetchall()\n",
    "\n",
    "with engine.begin() as conn:\n",
    "    for _ in range(50):\n",
    "        insert_stmt = employes_table.insert().values(\n",
    "            \n",
    "            code_postal=random.choice(codepostal_pk)[0],\n",
    "            role=\"Directeur\",\n",
    "            anciennete=faker.random_int(0,20),\n",
    "            nom=faker.name(),\n",
    "            adresse=faker.address(),\n",
    "            )\n",
    "\n",
    "        conn.execute(insert_stmt)\n",
    "\n",
    "with engine.begin() as connection:\n",
    "    dir_id=connection.execute(db.select([employes_table.c.id_employes])).fetchall()\n",
    "\n",
    "\n",
    "with engine.begin() as conn:\n",
    "    for _ in range(150):\n",
    "        insert_stmt = employes_table.insert().values(\n",
    "         \n",
    "            id_superieur=random.choice(dir_id)[0],\n",
    "            code_postal=random.choice(codepostal_pk)[0],\n",
    "            role=\"Manager\",\n",
    "            anciennete=faker.random_int(0,20),\n",
    "            nom=faker.name(),\n",
    "            adresse=faker.address(),\n",
    "            note=faker.random_int(0,10)\n",
    "            )\n",
    "\n",
    "        conn.execute(insert_stmt)\n",
    "\n",
    "with engine.begin() as connection:\n",
    "    manager_id=connection.execute(db.select([employes_table.c.id_employes]).where(employes_table.c.role == \"Manager\")).fetchall()\n",
    "    role_employes = [\"cuisinier\",\"caissiere\"]\n",
    "\n",
    "with engine.begin() as conn:\n",
    "    for _ in range(1500):\n",
    "        insert_stmt = employes_table.insert().values(\n",
    "            \n",
    "            id_superieur=random.choice(manager_id)[0],\n",
    "            code_postal=random.choice(codepostal_pk)[0],\n",
    "            role=random.choice(role_employes),\n",
    "            anciennete=faker.random_int(0,20),\n",
    "            nom=faker.name(),\n",
    "            adresse=faker.address(),\n",
    "            note=faker.random_int(0,10)\n",
    "            )\n",
    "\n",
    "        conn.execute(insert_stmt)"
   ]
  },
  {
   "cell_type": "code",
   "execution_count": 304,
   "metadata": {},
   "outputs": [],
   "source": [
    "# with engine.begin() as connection:\n",
    "#     for i in range(26):\n",
    "#       insert_stmt = bulletin_paye_table.insert().values(\n",
    "#         id_employes= i,\n",
    "#         date= faker.date(),\n",
    "#         salaire=randint(1200,2500),\n",
    "#         poste =List_employes[i],\n",
    "       \n",
    "#        )\n",
    "#       connection.execute(insert_stmt)"
   ]
  },
  {
   "cell_type": "code",
   "execution_count": 305,
   "metadata": {},
   "outputs": [],
   "source": [
    "# with engine.begin() as connection:\n",
    "#     for i in range(26):\n",
    "#       insert_stmt = bulletin_paye_table.insert().values(\n",
    "#         id_employes= i,\n",
    "#         date= faker.date(),\n",
    "#         salaire=randint(1200,2500),\n",
    "#         poste =List_employes[i],\n",
    "       \n",
    "#        )\n",
    "#       connection.execute(insert_stmt)"
   ]
  },
  {
   "cell_type": "code",
   "execution_count": 306,
   "metadata": {},
   "outputs": [],
   "source": [
    "type_liste = [\"boisson\", \"dessert\", \"plat\"]\n",
    "with engine.begin() as connection:\n",
    "    for _ in range(30):\n",
    "      insert_stmt = item_table.insert().values(\n",
    "        nom_item = faker.unique.dish(),\n",
    "        type = random.choice(type_liste),\n",
    "        prix = round(random.uniform(2, 10),2),\n",
    "\n",
    "      )\n",
    "      connection.execute(insert_stmt)"
   ]
  },
  {
   "cell_type": "code",
   "execution_count": 307,
   "metadata": {},
   "outputs": [],
   "source": [
    "with engine.begin() as connection:\n",
    "    for _ in range(40):\n",
    "      insert_stmt = ingredient_table.insert().values(\n",
    "          nom_ingredient = faker.unique.ingredient(),\n",
    "          prix_achat = round(random.uniform(0.2,8),2)\n",
    "\n",
    "      )\n",
    "      connection.execute(insert_stmt)"
   ]
  },
  {
   "cell_type": "code",
   "execution_count": 308,
   "metadata": {},
   "outputs": [],
   "source": [
    "with engine.begin() as connection:\n",
    "    item_pk = connection.execute(db.select([item_table.c.nom_item])).fetchall()\n",
    "\n",
    "with engine.begin() as connection:\n",
    "    ingredient_pk = connection.execute(db.select([ingredient_table.c.nom_ingredient])).fetchall()\n",
    "\n",
    "\n",
    "with engine.begin() as connection:\n",
    "    for i in range(len(item_pk)):\n",
    "        ingredient_selectionne = []\n",
    "        for nb_ingredient in range(random.randrange(1,6)):\n",
    "            ingre = random.choice([ing for ing in ingredient_pk if ing not in ingredient_selectionne])[0]\n",
    "            insert_stmt = recette_table.insert().values(\n",
    "                \n",
    "                nom_item = item_pk[i][0],\n",
    "                nom_ingredient = ingre,\n",
    "                \n",
    "                quantite_ingredient = random.randrange(1,5),\n",
    "            )\n",
    "            ingredient_selectionne.append(ingre)\n",
    "            \n",
    "            connection.execute(insert_stmt)"
   ]
  },
  {
   "cell_type": "code",
   "execution_count": 309,
   "metadata": {},
   "outputs": [],
   "source": [
    "with engine.begin() as connection:\n",
    "    item_plat_pk = connection.execute(db.select([item_table.c.nom_item]).where(item_table.c.type==\"plat\")).fetchall()\n",
    "with engine.begin() as connection:\n",
    "    item_dessert_pk = connection.execute(db.select([item_table.c.nom_item]).where(item_table.c.type ==\"dessert\")).fetchall()\n",
    "with engine.begin() as connection:\n",
    "    item_boisson_pk = connection.execute(db.select([item_table.c.nom_item]).where(item_table.c.type==\"boisson\")).fetchall()\n",
    "\n",
    "with engine.begin() as connection:\n",
    "    for _ in range(15):\n",
    "      insert_stmt = menu_table.insert().values(\n",
    "          nom_menu = faker.unique.company(),\n",
    "          plat = random.choice(item_plat_pk)[0],\n",
    "          dessert = random.choice(item_dessert_pk)[0],\n",
    "          boisson = random.choice(item_boisson_pk)[0],\n",
    "          prix = round(random.uniform(8,15),2)\n",
    "\n",
    "      )\n",
    "      connection.execute(insert_stmt)"
   ]
  },
  {
   "cell_type": "code",
   "execution_count": 310,
   "metadata": {},
   "outputs": [],
   "source": [
    "\n",
    "\n",
    "\n",
    "with engine.begin() as connection:\n",
    "    for i in range(len(pays_pk)):\n",
    "        item_selectionne = []\n",
    "        for nb_selectionne in range(random.randrange(10,15)):\n",
    "            itemm = random.choice([it for it in item_pk if it not in item_selectionne])[0]\n",
    "            insert_stmt = carte_item_table.insert().values(\n",
    "                \n",
    "                pays= pays_pk[i][0],\n",
    "                nom_item = itemm,\n",
    "               \n",
    "            )\n",
    "            item_selectionne.append(itemm)\n",
    "            \n",
    "            connection.execute(insert_stmt)"
   ]
  },
  {
   "cell_type": "code",
   "execution_count": 311,
   "metadata": {},
   "outputs": [],
   "source": [
    "with engine.begin() as connection:\n",
    "    menu_pk = connection.execute(db.select([menu_table.c.nom_menu])).fetchall()\n",
    "with engine.begin() as connection:\n",
    "    for i in range(len(pays_pk)):\n",
    "        menu_selectionne = []\n",
    "        for nb_selectionne in range(random.randrange(5,10)):\n",
    "            menuu = random.choice([me for me in menu_pk if me not in menu_selectionne])[0]\n",
    "            insert_stmt = carte_menu_table.insert().values(\n",
    "                \n",
    "                pays= pays_pk[i][0],\n",
    "                nom_menu = menuu,\n",
    "               \n",
    "            )\n",
    "            menu_selectionne.append(menuu)\n",
    "            \n",
    "            connection.execute(insert_stmt)"
   ]
  },
  {
   "cell_type": "code",
   "execution_count": 312,
   "metadata": {},
   "outputs": [],
   "source": [
    "with engine.begin() as connection:\n",
    "    ingredient_pk = connection.execute(db.select([ingredient_table.c.nom_ingredient])).fetchall()\n",
    "with engine.begin() as connection:\n",
    "    codepostal_pk = connection.execute(db.select([restaurant_table.c.code_postal])).fetchall()\n",
    "\n",
    "\n",
    "with engine.begin() as connection:\n",
    "    for i in range(len(codepostal_pk)):\n",
    "        ingredient_selectionne = []\n",
    "        for nb_ingredient in range(random.randrange(10,20)):\n",
    "            ingre = random.choice([ing for ing in ingredient_pk if ing not in ingredient_selectionne])[0]\n",
    "            insert_stmt = stock_table.insert().values(\n",
    "                \n",
    "                code_postal= codepostal_pk[i][0],\n",
    "                nom_ingredient = ingre,\n",
    "                \n",
    "                quantite= random.randrange(1,15),\n",
    "            )\n",
    "            ingredient_selectionne.append(ingre)\n",
    "            \n",
    "            connection.execute(insert_stmt)"
   ]
  },
  {
   "cell_type": "code",
   "execution_count": 313,
   "metadata": {},
   "outputs": [],
   "source": [
    "paiment=['carte_bancaire','espece','cheque']\n",
    "\n",
    "with engine.begin() as connection:\n",
    " #codepostal_pk= connection.execute(db.select([restaurant_table.c.code_postal])).fetchall()\n",
    " id_employes_pk= connection.execute(db.select([employes_table.c.id_employes])).fetchall()\n",
    "\n",
    "with engine.begin() as connection:\n",
    "    for i in range(len(id_employes_pk)):\n",
    "      insert_stmt = addition_table.insert().values(\n",
    "        heure= faker.date(),\n",
    "        code_postal=random.choice(codepostal_pk)[0],#random.randint(10000,99999),#random.choice(codepostal_pk)[0],\n",
    "        id_employes = random.choice(id_employes_pk)[0],\n",
    "        somme = random.randint(8,35),\n",
    "        moyen_paiment= random.choice(paiment),\n",
    "\n",
    "       )\n",
    "      connection.execute(insert_stmt)"
   ]
  },
  {
   "cell_type": "code",
   "execution_count": 314,
   "metadata": {},
   "outputs": [],
   "source": [
    "with engine.begin() as connection:\n",
    "    id_employes_pk= connection.execute(db.select([employes_table.c.id_employes])).fetchall()\n",
    "    poste_pk=connection.execute(db.select([employes_table.c.role])).fetchall()\n",
    "\n",
    "\n",
    "with engine.begin() as connection:\n",
    "    for i in range(len(id_employes_pk)):\n",
    "      insert_stmt = bulletin_paye_table.insert().values(\n",
    "        id_employes= random.choice(id_employes_pk)[0],\n",
    "        date= faker.date(),\n",
    "        salaire=random.randint(1200,2500),\n",
    "        poste = random.choice(poste_pk)[0],\n",
    "\n",
    "       )\n",
    "      connection.execute(insert_stmt)"
   ]
  },
  {
   "cell_type": "code",
   "execution_count": 315,
   "metadata": {},
   "outputs": [],
   "source": [
    "with engine.begin() as connection:\n",
    "    idticket_pk = connection.execute(db.select([addition_table.c.id_ticket])).fetchall()\n",
    "\n",
    "with engine.begin() as connection:\n",
    "    for i in range(len(codepostal_pk)):\n",
    "        ingredient_selectionne = []\n",
    "        for nb_ingredient in range(random.randrange(10,20)):\n",
    "            ingre = random.choice([ing for ing in ingredient_pk if ing not in ingredient_selectionne])[0]\n",
    "            insert_stmt = stock_table.insert().values(\n",
    "                \n",
    "                code_postal= codepostal_pk[i][0],\n",
    "                nom_ingredient = ingre,\n",
    "                \n",
    "                quantite= random.randrange(1,15),\n",
    "            )\n",
    "            ingredient_selectionne.append(ingre)\n",
    "            \n",
    "            connection.execute(insert_stmt)\n"
   ]
  },
  {
   "cell_type": "code",
   "execution_count": 316,
   "metadata": {},
   "outputs": [],
   "source": [
    "\n",
    "\n",
    "\n",
    "with engine.begin() as conn:\n",
    "    for i in range(len(idticket_pk)):\n",
    "        item_selectionne_list = []\n",
    "        for _ in range(random.randrange(1,10)):\n",
    "            selected_item = random.choice([e for e in item_pk if e[0] not in item_selectionne_list])[0]\n",
    "            item_selectionne_list.append(selected_item)\n",
    "            insert_stmt = panier_item_table.insert().values(\n",
    "                id_ticket = idticket_pk[i][0],\n",
    "                nom_item = selected_item,\n",
    "                quantite_item = faker.pyint(0,10)\n",
    "            )\n",
    "            conn.execute(insert_stmt)"
   ]
  },
  {
   "cell_type": "code",
   "execution_count": 317,
   "metadata": {},
   "outputs": [],
   "source": [
    "\n",
    "\n",
    "with engine.begin() as conn:\n",
    "    for i in range(len(idticket_pk)):\n",
    "        menu_selectionne_list = []\n",
    "        for _ in range(random.randrange(1,10)):\n",
    "            selected_menu = random.choice([e for e in menu_pk if e[0] not in menu_selectionne_list])[0]\n",
    "            menu_selectionne_list.append(selected_menu)\n",
    "            insert_stmt = panier_menu_table.insert().values(\n",
    "                id_ticket = idticket_pk[i][0],\n",
    "                nom_menu = selected_item,\n",
    "                quantite_menu = faker.pyint(0,10)\n",
    "            )\n",
    "            conn.execute(insert_stmt)"
   ]
  },
  {
   "cell_type": "markdown",
   "metadata": {},
   "source": [
    "#  2éme question : Extraire l’ingrédient le plus utilisé dans chaque département de chaque pays "
   ]
  },
  {
   "cell_type": "code",
   "execution_count": 318,
   "metadata": {},
   "outputs": [],
   "source": [
    "engine2 = db.create_engine('sqlite:///exercice.db')\n",
    "connection2 = engine2.connect()\n",
    "metadata2 = db.MetaData(engine2)\n",
    "\n"
   ]
  },
  {
   "cell_type": "markdown",
   "metadata": {},
   "source": [
    "## 1er methode"
   ]
  },
  {
   "cell_type": "code",
   "execution_count": 319,
   "metadata": {},
   "outputs": [],
   "source": [
    "with engine.begin() as connection:\n",
    "    quantite_max = connection.execute(db.select([db.func.max(stock_table.c.quantite).label(\"max_ingredient\"),stock_table.c.nom_ingredient, stock_table.c.code_postal, ]).group_by(stock_table.c.code_postal))\n",
    "    \n",
    "    df_quantite_max= pd.DataFrame(quantite_max)\n",
    "df_quantite_max"
   ]
  },
  {
   "cell_type": "code",
   "execution_count": 320,
   "metadata": {},
   "outputs": [],
   "source": [
    "df_quantite_max.to_sql(name='IngredientPays', con=engine2, if_exists = 'append', index=False)"
   ]
  },
  {
   "cell_type": "markdown",
   "metadata": {},
   "source": [
    "## 2émé méthode"
   ]
  },
  {
   "cell_type": "code",
   "execution_count": 321,
   "metadata": {},
   "outputs": [],
   "source": [
    "ingredient_pays_table = db.Table('IngredientPays', metadata2,\n",
    "              db.Column('code_postal', db.String(), primary_key=True),\n",
    "              db.Column('nom_ingredient', db.String()),\n",
    "              db.Column('ingredient_max', db.Float()),\n",
    "              )\n",
    "\n",
    "metadata2.create_all(engine2)"
   ]
  },
  {
   "cell_type": "code",
   "execution_count": 323,
   "metadata": {},
   "outputs": [],
   "source": [
    "with engine.begin() as connection:\n",
    "    \n",
    "    quantite_max = connection.execute(db.select([db.func.max(stock_table.c.quantite).label(\"max_ingredient\"),stock_table.c.nom_ingredient, stock_table.c.code_postal, ]).group_by(stock_table.c.code_postal))\n",
    "     \n",
    "    for row in quantite_max:  \n",
    "            with engine2.begin() as connection2:\n",
    "                insert_stmt = ingredient_pays_table.insert().values(\n",
    "                code_postal = row[2],\n",
    "                nom_ingredient = row[1],\n",
    "                ingredient_max = row[0]\n",
    "        )        \n",
    "                connection2.execute(insert_stmt) \n"
   ]
  },
  {
   "cell_type": "code",
   "execution_count": null,
   "metadata": {},
   "outputs": [],
   "source": [
    "with engine.begin() as connection:\n",
    "    quantite_max = connection.execute(with engine.begin() as connection:\n",
    "    quantite_max = connection.execute(db.select([db.func.max(stock_table.c.quantite).label(\"max_ingredient\"),stock_table.c.nom_ingredient, stock_table.c.code_postal, ]).group_by(stock_table.c.code_postal))\n",
    "    \n",
    "    df_quantite_max= pd.DataFrame(quantite_max)\n",
    "df_quantite_max\n",
    "    df_quantite_max= pd.DataFrame(quantite_max)\n",
    "df_quantite_max"
   ]
  },
  {
   "cell_type": "markdown",
   "metadata": {},
   "source": [
    "# Extraire le nombre d’employés dans chaque département de chaque pays (on suppose que le département correspond aux deux premiers termes du code postal) "
   ]
  },
  {
   "cell_type": "code",
   "execution_count": null,
   "metadata": {},
   "outputs": [],
   "source": []
  }
 ],
 "metadata": {
  "kernelspec": {
   "display_name": "Python 3.10.8 ('data_analyse_env')",
   "language": "python",
   "name": "python3"
  },
  "language_info": {
   "codemirror_mode": {
    "name": "ipython",
    "version": 3
   },
   "file_extension": ".py",
   "mimetype": "text/x-python",
   "name": "python",
   "nbconvert_exporter": "python",
   "pygments_lexer": "ipython3",
   "version": "3.10.8"
  },
  "orig_nbformat": 4,
  "vscode": {
   "interpreter": {
    "hash": "efb016019911489f5a03966f4d1632bb4674bdc6f12f4d95624e206dc03ec67a"
   }
  }
 },
 "nbformat": 4,
 "nbformat_minor": 2
}
